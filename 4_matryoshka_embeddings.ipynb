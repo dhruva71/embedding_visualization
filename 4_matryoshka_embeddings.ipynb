{
 "cells": [
  {
   "cell_type": "code",
   "id": "initial_id",
   "metadata": {
    "collapsed": true,
    "ExecuteTime": {
     "end_time": "2025-09-19T12:16:02.020699Z",
     "start_time": "2025-09-19T12:16:01.593736Z"
    }
   },
   "source": [
    "import os\n",
    "\n",
    "import openai\n",
    "from dotenv import load_dotenv\n",
    "\n",
    "load_dotenv()"
   ],
   "outputs": [
    {
     "data": {
      "text/plain": [
       "True"
      ]
     },
     "execution_count": 2,
     "metadata": {},
     "output_type": "execute_result"
    }
   ],
   "execution_count": 2
  },
  {
   "metadata": {},
   "cell_type": "markdown",
   "source": "# List of input sentences",
   "id": "ab08681c8b7089f9"
  },
  {
   "metadata": {
    "ExecuteTime": {
     "end_time": "2025-09-19T12:16:03.204265Z",
     "start_time": "2025-09-19T12:16:03.202157Z"
    }
   },
   "cell_type": "code",
   "source": [
    "sentences = [\n",
    "    'What did the King wear?',\n",
    "    'The king wore black clothes',\n",
    "    'What is a red panda?',\n",
    "    'The red panda is a small mammal.',\n",
    "]"
   ],
   "id": "e7eb1602ca5b4e42",
   "outputs": [],
   "execution_count": 3
  },
  {
   "metadata": {},
   "cell_type": "markdown",
   "source": "# Generate embeddings",
   "id": "432c438f594fdb8c"
  },
  {
   "metadata": {
    "ExecuteTime": {
     "end_time": "2025-09-19T12:16:09.208195Z",
     "start_time": "2025-09-19T12:16:03.735032Z"
    }
   },
   "cell_type": "code",
   "source": [
    "# get embeddings for each sentence using openai embedding model\n",
    "client = openai.OpenAI(api_key=os.environ.get(\"OPENAI_API_KEY\"))\n",
    "embedding_model = 'text-embedding-3-large'\n",
    "\n",
    "openai_embeddings = []\n",
    "for sentence in sentences:\n",
    "    response = client.embeddings.create(\n",
    "        model=embedding_model,\n",
    "        input=sentence\n",
    "    )\n",
    "    embedding = response.data[0].embedding\n",
    "    openai_embeddings.append(embedding)\n",
    "    print(f'Received embedding for sentence: {sentence}')"
   ],
   "id": "1c1088afa795725",
   "outputs": [
    {
     "name": "stdout",
     "output_type": "stream",
     "text": [
      "Received embedding for sentence: What did the King wear?\n",
      "Received embedding for sentence: The king wore black clothes\n",
      "Received embedding for sentence: What is a red panda?\n",
      "Received embedding for sentence: The red panda is a small mammal.\n"
     ]
    }
   ],
   "execution_count": 4
  },
  {
   "metadata": {
    "ExecuteTime": {
     "end_time": "2025-09-19T12:16:09.270253Z",
     "start_time": "2025-09-19T12:16:09.267711Z"
    }
   },
   "cell_type": "code",
   "source": [
    "if len(openai_embeddings) == len(sentences) and len(openai_embeddings[0]) != 0:\n",
    "    print(f'Received embeddings for {len(openai_embeddings)} sentences, embedding size: {len(openai_embeddings[0])}')"
   ],
   "id": "839e3a8ba055b864",
   "outputs": [
    {
     "name": "stdout",
     "output_type": "stream",
     "text": [
      "Received embeddings for 4 sentences, embedding size: 3072\n"
     ]
    }
   ],
   "execution_count": 5
  },
  {
   "metadata": {},
   "cell_type": "markdown",
   "source": "## Verify unit length",
   "id": "5df6b8c634e9e6ec"
  },
  {
   "metadata": {
    "ExecuteTime": {
     "end_time": "2025-09-19T13:18:16.805728Z",
     "start_time": "2025-09-19T13:18:16.802697Z"
    }
   },
   "cell_type": "code",
   "source": [
    "import numpy as np\n",
    "\n",
    "# converted to float32, as float64 might add a tiny bit of error at the end\n",
    "np.linalg.norm(openai_embeddings[0]).astype(np.float32)"
   ],
   "id": "e09f2205c9cdbd6c",
   "outputs": [
    {
     "data": {
      "text/plain": [
       "np.float32(1.0)"
      ]
     },
     "execution_count": 29,
     "metadata": {},
     "output_type": "execute_result"
    }
   ],
   "execution_count": 29
  },
  {
   "metadata": {},
   "cell_type": "markdown",
   "source": "# Get cosine similarity between every pair",
   "id": "da8431a32a933b04"
  },
  {
   "metadata": {
    "ExecuteTime": {
     "end_time": "2025-09-19T12:16:09.368730Z",
     "start_time": "2025-09-19T12:16:09.319459Z"
    }
   },
   "cell_type": "code",
   "source": [
    "from sklearn.metrics.pairwise import cosine_distances, euclidean_distances, cosine_similarity\n",
    "\n",
    "metric = cosine_similarity\n",
    "metric_name = \"cosine_similarity\""
   ],
   "id": "26372d19449b3c1c",
   "outputs": [],
   "execution_count": 6
  },
  {
   "metadata": {},
   "cell_type": "markdown",
   "source": "## Function to calculate similarities",
   "id": "b4d49273513adf88"
  },
  {
   "metadata": {
    "ExecuteTime": {
     "end_time": "2025-09-19T12:16:09.376758Z",
     "start_time": "2025-09-19T12:16:09.374701Z"
    }
   },
   "cell_type": "code",
   "source": [
    "def calculate_similarities(openai_embeddings_list: list) -> dict:\n",
    "    output_dict = {}\n",
    "    for idx1, sentence1 in enumerate(sentences):\n",
    "        for idx2, sentence2 in enumerate(sentences[idx1 + 1:]):\n",
    "            actual_index = idx1 + 1 + idx2\n",
    "            openai_embedding1 = [openai_embeddings_list[idx1]]\n",
    "            openai_embedding2 = [openai_embeddings_list[actual_index]]\n",
    "\n",
    "            output_dict[f'pair_{idx1}_{actual_index}'] = metric(openai_embedding1, openai_embedding2)[0][0]\n",
    "    return output_dict"
   ],
   "id": "8bb44cde80b1690b",
   "outputs": [],
   "execution_count": 7
  },
  {
   "metadata": {
    "ExecuteTime": {
     "end_time": "2025-09-19T12:16:09.434127Z",
     "start_time": "2025-09-19T12:16:09.427297Z"
    }
   },
   "cell_type": "code",
   "source": [
    "similarities_full = calculate_similarities(openai_embeddings_list=openai_embeddings)\n",
    "similarities_full"
   ],
   "id": "c1b8e8f5a5b896cc",
   "outputs": [
    {
     "data": {
      "text/plain": [
       "{'pair_0_1': np.float64(0.7421513181181323),\n",
       " 'pair_0_2': np.float64(0.058596090251280694),\n",
       " 'pair_0_3': np.float64(0.04514082833929774),\n",
       " 'pair_1_2': np.float64(0.019115193577802427),\n",
       " 'pair_1_3': np.float64(0.06825793808363682),\n",
       " 'pair_2_3': np.float64(0.7238462230267932)}"
      ]
     },
     "execution_count": 8,
     "metadata": {},
     "output_type": "execute_result"
    }
   ],
   "execution_count": 8
  },
  {
   "metadata": {},
   "cell_type": "markdown",
   "source": "# Matryoshka embeddings",
   "id": "f351044e7aa93392"
  },
  {
   "metadata": {},
   "cell_type": "markdown",
   "source": "## Now we take only the first 64,128,256,512 to compare embeddings",
   "id": "e489137d13c7cb88"
  },
  {
   "metadata": {
    "ExecuteTime": {
     "end_time": "2025-09-19T13:19:06.496990Z",
     "start_time": "2025-09-19T13:19:06.494683Z"
    }
   },
   "cell_type": "code",
   "source": [
    "openai_embeddings_64 = [x[:64] for x in openai_embeddings]\n",
    "openai_embeddings_128 = [x[:128] for x in openai_embeddings]\n",
    "openai_embeddings_256 = [x[:256] for x in openai_embeddings]\n",
    "openai_embeddings_512 = [x[:512] for x in openai_embeddings]"
   ],
   "id": "df5ee156f7808594",
   "outputs": [],
   "execution_count": 34
  },
  {
   "metadata": {},
   "cell_type": "markdown",
   "source": "### Just to verify, let's look at the length of one",
   "id": "654b929c553ffd58"
  },
  {
   "metadata": {
    "ExecuteTime": {
     "end_time": "2025-09-19T13:19:07.491895Z",
     "start_time": "2025-09-19T13:19:07.488897Z"
    }
   },
   "cell_type": "code",
   "source": "len(openai_embeddings_128[0])",
   "id": "73d827814308be99",
   "outputs": [
    {
     "data": {
      "text/plain": [
       "128"
      ]
     },
     "execution_count": 35,
     "metadata": {},
     "output_type": "execute_result"
    }
   ],
   "execution_count": 35
  },
  {
   "metadata": {},
   "cell_type": "markdown",
   "source": [
    "## Normalizing\n",
    "OpenAI embeddings are normalized by default, but if you truncate by yourself, the normalization is lost"
   ],
   "id": "2ba5490cbd0ab956"
  },
  {
   "metadata": {
    "ExecuteTime": {
     "end_time": "2025-09-19T13:23:38.758352Z",
     "start_time": "2025-09-19T13:23:38.752050Z"
    }
   },
   "cell_type": "code",
   "source": [
    "from sklearn.preprocessing import normalize\n",
    "\n",
    "openai_embeddings_64 = [normalize([x])[0] for x in openai_embeddings_64]\n",
    "openai_embeddings_128 = [normalize([x])[0] for x in openai_embeddings_128]\n",
    "openai_embeddings_256 = [normalize([x])[0] for x in openai_embeddings_256]\n",
    "openai_embeddings_512 = [normalize([x])[0] for x in openai_embeddings_512]"
   ],
   "id": "18d7e6b8855241c1",
   "outputs": [],
   "execution_count": 49
  },
  {
   "metadata": {},
   "cell_type": "markdown",
   "source": "## Verify length from one sample",
   "id": "412873f701f434c8"
  },
  {
   "metadata": {
    "ExecuteTime": {
     "end_time": "2025-09-19T13:23:39.526430Z",
     "start_time": "2025-09-19T13:23:39.523948Z"
    }
   },
   "cell_type": "code",
   "source": "np.linalg.norm(openai_embeddings_64[0])",
   "id": "cd4cf289f5c57de",
   "outputs": [
    {
     "data": {
      "text/plain": [
       "np.float64(1.0)"
      ]
     },
     "execution_count": 50,
     "metadata": {},
     "output_type": "execute_result"
    }
   ],
   "execution_count": 50
  },
  {
   "metadata": {
    "ExecuteTime": {
     "end_time": "2025-09-19T13:19:18.147742Z",
     "start_time": "2025-09-19T13:19:18.145337Z"
    }
   },
   "cell_type": "code",
   "source": "np.array(openai_embeddings_64).shape",
   "id": "bc22e6c2a9f70108",
   "outputs": [
    {
     "data": {
      "text/plain": [
       "(4, 64)"
      ]
     },
     "execution_count": 38,
     "metadata": {},
     "output_type": "execute_result"
    }
   ],
   "execution_count": 38
  },
  {
   "metadata": {},
   "cell_type": "markdown",
   "source": "## Let us recalculate similarities using less dimensions",
   "id": "e75509cde4615b4f"
  },
  {
   "metadata": {},
   "cell_type": "markdown",
   "source": "### 64",
   "id": "2bcdb1dc0268abb2"
  },
  {
   "metadata": {
    "ExecuteTime": {
     "end_time": "2025-09-19T13:19:20.790335Z",
     "start_time": "2025-09-19T13:19:20.785939Z"
    }
   },
   "cell_type": "code",
   "source": [
    "similarities_64 = calculate_similarities(openai_embeddings_64)\n",
    "similarities_64"
   ],
   "id": "e468608084db2b01",
   "outputs": [
    {
     "data": {
      "text/plain": [
       "{'pair_0_1': np.float64(0.6850311633462725),\n",
       " 'pair_0_2': np.float64(0.20489690628065071),\n",
       " 'pair_0_3': np.float64(0.16382403008593263),\n",
       " 'pair_1_2': np.float64(0.13412743954637257),\n",
       " 'pair_1_3': np.float64(0.15776509987706538),\n",
       " 'pair_2_3': np.float64(0.697904445069117)}"
      ]
     },
     "execution_count": 39,
     "metadata": {},
     "output_type": "execute_result"
    }
   ],
   "execution_count": 39
  },
  {
   "metadata": {},
   "cell_type": "markdown",
   "source": "### 128",
   "id": "2e4c407424d95c91"
  },
  {
   "metadata": {
    "ExecuteTime": {
     "end_time": "2025-09-19T13:19:22.136909Z",
     "start_time": "2025-09-19T13:19:22.131606Z"
    }
   },
   "cell_type": "code",
   "source": [
    "similarities_128 = calculate_similarities(openai_embeddings_128)\n",
    "similarities_128"
   ],
   "id": "b50b7943ecd10d0b",
   "outputs": [
    {
     "data": {
      "text/plain": [
       "{'pair_0_1': np.float64(0.7359116060062697),\n",
       " 'pair_0_2': np.float64(0.17322708849706525),\n",
       " 'pair_0_3': np.float64(0.09730477629606829),\n",
       " 'pair_1_2': np.float64(0.10296365205092117),\n",
       " 'pair_1_3': np.float64(0.1119801447897345),\n",
       " 'pair_2_3': np.float64(0.6969662547018949)}"
      ]
     },
     "execution_count": 40,
     "metadata": {},
     "output_type": "execute_result"
    }
   ],
   "execution_count": 40
  },
  {
   "metadata": {},
   "cell_type": "markdown",
   "source": "## 256",
   "id": "fd87b1e000838885"
  },
  {
   "metadata": {
    "ExecuteTime": {
     "end_time": "2025-09-19T13:19:22.548827Z",
     "start_time": "2025-09-19T13:19:22.543892Z"
    }
   },
   "cell_type": "code",
   "source": [
    "similarities_256 = calculate_similarities(openai_embeddings_256)\n",
    "similarities_256"
   ],
   "id": "e8500581a0126a10",
   "outputs": [
    {
     "data": {
      "text/plain": [
       "{'pair_0_1': np.float64(0.7671354537635768),\n",
       " 'pair_0_2': np.float64(0.05499389997816803),\n",
       " 'pair_0_3': np.float64(0.09790841617710405),\n",
       " 'pair_1_2': np.float64(0.025739163936461393),\n",
       " 'pair_1_3': np.float64(0.12542754519516558),\n",
       " 'pair_2_3': np.float64(0.7158468083896092)}"
      ]
     },
     "execution_count": 41,
     "metadata": {},
     "output_type": "execute_result"
    }
   ],
   "execution_count": 41
  },
  {
   "metadata": {},
   "cell_type": "markdown",
   "source": "## 512",
   "id": "f98e27bd23e212ca"
  },
  {
   "metadata": {
    "ExecuteTime": {
     "end_time": "2025-09-19T13:19:22.996103Z",
     "start_time": "2025-09-19T13:19:22.992377Z"
    }
   },
   "cell_type": "code",
   "source": [
    "similarities_512 = calculate_similarities(openai_embeddings_512)\n",
    "similarities_512"
   ],
   "id": "f2c5ef0853110cd0",
   "outputs": [
    {
     "data": {
      "text/plain": [
       "{'pair_0_1': np.float64(0.7534843824718538),\n",
       " 'pair_0_2': np.float64(0.028904831027034256),\n",
       " 'pair_0_3': np.float64(0.039964305381076794),\n",
       " 'pair_1_2': np.float64(0.024245788101245204),\n",
       " 'pair_1_3': np.float64(0.08292599551954621),\n",
       " 'pair_2_3': np.float64(0.7433827317392555)}"
      ]
     },
     "execution_count": 42,
     "metadata": {},
     "output_type": "execute_result"
    }
   ],
   "execution_count": 42
  },
  {
   "metadata": {},
   "cell_type": "markdown",
   "source": "# Build a dataframe to compare",
   "id": "b7d1532ea7a99f51"
  },
  {
   "metadata": {
    "ExecuteTime": {
     "end_time": "2025-09-19T13:35:24.492952Z",
     "start_time": "2025-09-19T13:35:24.485310Z"
    }
   },
   "cell_type": "code",
   "source": [
    "import pandas as pd\n",
    "\n",
    "combined_data = {\n",
    "    'full': similarities_full,\n",
    "    '64': similarities_64,\n",
    "    '128': similarities_128,\n",
    "    '256': similarities_256,\n",
    "    '512': similarities_512,\n",
    "}\n",
    "df = pd.DataFrame(combined_data)\n",
    "df.index.name = 'sentence_pair'\n",
    "df"
   ],
   "id": "551da6861e47b72a",
   "outputs": [
    {
     "data": {
      "text/plain": [
       "                   full        64       128       256       512\n",
       "sentence_pair                                                  \n",
       "pair_0_1       0.742151  0.685031  0.735912  0.767135  0.753484\n",
       "pair_0_2       0.058596  0.204897  0.173227  0.054994  0.028905\n",
       "pair_0_3       0.045141  0.163824  0.097305  0.097908  0.039964\n",
       "pair_1_2       0.019115  0.134127  0.102964  0.025739  0.024246\n",
       "pair_1_3       0.068258  0.157765  0.111980  0.125428  0.082926\n",
       "pair_2_3       0.723846  0.697904  0.696966  0.715847  0.743383"
      ],
      "text/html": [
       "<div>\n",
       "<style scoped>\n",
       "    .dataframe tbody tr th:only-of-type {\n",
       "        vertical-align: middle;\n",
       "    }\n",
       "\n",
       "    .dataframe tbody tr th {\n",
       "        vertical-align: top;\n",
       "    }\n",
       "\n",
       "    .dataframe thead th {\n",
       "        text-align: right;\n",
       "    }\n",
       "</style>\n",
       "<table border=\"1\" class=\"dataframe\">\n",
       "  <thead>\n",
       "    <tr style=\"text-align: right;\">\n",
       "      <th></th>\n",
       "      <th>full</th>\n",
       "      <th>64</th>\n",
       "      <th>128</th>\n",
       "      <th>256</th>\n",
       "      <th>512</th>\n",
       "    </tr>\n",
       "    <tr>\n",
       "      <th>sentence_pair</th>\n",
       "      <th></th>\n",
       "      <th></th>\n",
       "      <th></th>\n",
       "      <th></th>\n",
       "      <th></th>\n",
       "    </tr>\n",
       "  </thead>\n",
       "  <tbody>\n",
       "    <tr>\n",
       "      <th>pair_0_1</th>\n",
       "      <td>0.742151</td>\n",
       "      <td>0.685031</td>\n",
       "      <td>0.735912</td>\n",
       "      <td>0.767135</td>\n",
       "      <td>0.753484</td>\n",
       "    </tr>\n",
       "    <tr>\n",
       "      <th>pair_0_2</th>\n",
       "      <td>0.058596</td>\n",
       "      <td>0.204897</td>\n",
       "      <td>0.173227</td>\n",
       "      <td>0.054994</td>\n",
       "      <td>0.028905</td>\n",
       "    </tr>\n",
       "    <tr>\n",
       "      <th>pair_0_3</th>\n",
       "      <td>0.045141</td>\n",
       "      <td>0.163824</td>\n",
       "      <td>0.097305</td>\n",
       "      <td>0.097908</td>\n",
       "      <td>0.039964</td>\n",
       "    </tr>\n",
       "    <tr>\n",
       "      <th>pair_1_2</th>\n",
       "      <td>0.019115</td>\n",
       "      <td>0.134127</td>\n",
       "      <td>0.102964</td>\n",
       "      <td>0.025739</td>\n",
       "      <td>0.024246</td>\n",
       "    </tr>\n",
       "    <tr>\n",
       "      <th>pair_1_3</th>\n",
       "      <td>0.068258</td>\n",
       "      <td>0.157765</td>\n",
       "      <td>0.111980</td>\n",
       "      <td>0.125428</td>\n",
       "      <td>0.082926</td>\n",
       "    </tr>\n",
       "    <tr>\n",
       "      <th>pair_2_3</th>\n",
       "      <td>0.723846</td>\n",
       "      <td>0.697904</td>\n",
       "      <td>0.696966</td>\n",
       "      <td>0.715847</td>\n",
       "      <td>0.743383</td>\n",
       "    </tr>\n",
       "  </tbody>\n",
       "</table>\n",
       "</div>"
      ]
     },
     "execution_count": 52,
     "metadata": {},
     "output_type": "execute_result"
    }
   ],
   "execution_count": 52
  },
  {
   "metadata": {},
   "cell_type": "markdown",
   "source": "# Plot on a chart",
   "id": "cb2447d454544701"
  },
  {
   "metadata": {
    "ExecuteTime": {
     "end_time": "2025-09-19T13:41:07.531751Z",
     "start_time": "2025-09-19T13:41:07.502798Z"
    }
   },
   "cell_type": "code",
   "source": [
    "import plotly.express as px\n",
    "\n",
    "fig = px.line(\n",
    "    df,\n",
    "    title='Cosine Similarity vs. Embedding Dimensions',\n",
    "    markers=True,\n",
    ")\n",
    "fig.show()"
   ],
   "id": "4de8c2855b1ae40f",
   "outputs": [
    {
     "data": {
      "application/vnd.plotly.v1+json": {
       "data": [
        {
         "hovertemplate": "variable=full<br>sentence_pair=%{x}<br>value=%{y}<extra></extra>",
         "legendgroup": "full",
         "line": {
          "color": "#636efa",
          "dash": "solid"
         },
         "marker": {
          "symbol": "circle"
         },
         "mode": "lines+markers",
         "name": "full",
         "orientation": "v",
         "showlegend": true,
         "x": [
          "pair_0_1",
          "pair_0_2",
          "pair_0_3",
          "pair_1_2",
          "pair_1_3",
          "pair_2_3"
         ],
         "xaxis": "x",
         "y": {
          "dtype": "f8",
          "bdata": "fgUAH7S/5z92/ZqGTgCuPxr/3NqyHKc/eu4X7e6Skz8T+cIrWnmxP152542/Kec/"
         },
         "yaxis": "y",
         "type": "scatter"
        },
        {
         "hovertemplate": "variable=64<br>sentence_pair=%{x}<br>value=%{y}<extra></extra>",
         "legendgroup": "64",
         "line": {
          "color": "#EF553B",
          "dash": "solid"
         },
         "marker": {
          "symbol": "circle"
         },
         "mode": "lines+markers",
         "name": "64",
         "orientation": "v",
         "showlegend": true,
         "x": [
          "pair_0_1",
          "pair_0_2",
          "pair_0_3",
          "pair_1_2",
          "pair_1_3",
          "pair_2_3"
         ],
         "xaxis": "x",
         "y": {
          "dtype": "f8",
          "bdata": "tARqecbr5T/Qc8PTDzrKP9lNwpEv+MQ/kocsgxYrwT+mCTaUpTHEP6DB6bM7VeY/"
         },
         "yaxis": "y",
         "type": "scatter"
        },
        {
         "hovertemplate": "variable=128<br>sentence_pair=%{x}<br>value=%{y}<extra></extra>",
         "legendgroup": "128",
         "line": {
          "color": "#00cc96",
          "dash": "solid"
         },
         "marker": {
          "symbol": "circle"
         },
         "mode": "lines+markers",
         "name": "128",
         "orientation": "v",
         "showlegend": true,
         "x": [
          "pair_0_1",
          "pair_0_2",
          "pair_0_3",
          "pair_1_2",
          "pair_1_3",
          "pair_2_3"
         ],
         "xaxis": "x",
         "y": {
          "dtype": "f8",
          "bdata": "h2YRf5aM5z8YJ/AjTizGP2qr7z/36Lg/IEU8btNbuj9oWqwTu6q8PyCHyyyMTeY/"
         },
         "yaxis": "y",
         "type": "scatter"
        },
        {
         "hovertemplate": "variable=256<br>sentence_pair=%{x}<br>value=%{y}<extra></extra>",
         "legendgroup": "256",
         "line": {
          "color": "#ab63fa",
          "dash": "solid"
         },
         "marker": {
          "symbol": "circle"
         },
         "mode": "lines+markers",
         "name": "256",
         "orientation": "v",
         "showlegend": true,
         "x": [
          "pair_0_1",
          "pair_0_2",
          "pair_0_3",
          "pair_1_2",
          "pair_1_3",
          "pair_2_3"
         ],
         "xaxis": "x",
         "y": {
          "dtype": "f8",
          "bdata": "qoiwpl+M6D/8fcUTKSisP5Tbe6WGELk/6XxVDV5bmj/+vVCCAg7AP9ZW35A36OY/"
         },
         "yaxis": "y",
         "type": "scatter"
        },
        {
         "hovertemplate": "variable=512<br>sentence_pair=%{x}<br>value=%{y}<extra></extra>",
         "legendgroup": "512",
         "line": {
          "color": "#FFA15A",
          "dash": "solid"
         },
         "marker": {
          "symbol": "circle"
         },
         "mode": "lines+markers",
         "name": "512",
         "orientation": "v",
         "showlegend": true,
         "x": [
          "pair_0_1",
          "pair_0_2",
          "pair_0_3",
          "pair_1_2",
          "pair_1_3",
          "pair_2_3"
         ],
         "xaxis": "x",
         "y": {
          "dtype": "f8",
          "bdata": "gm2YR4sc6D+of9RfOpmdP0X4PJEzdqQ/+qXXS+PTmD88pL5Wozq1P1lmJ5XKyec/"
         },
         "yaxis": "y",
         "type": "scatter"
        }
       ],
       "layout": {
        "template": {
         "data": {
          "histogram2dcontour": [
           {
            "type": "histogram2dcontour",
            "colorbar": {
             "outlinewidth": 0,
             "ticks": ""
            },
            "colorscale": [
             [
              0.0,
              "#0d0887"
             ],
             [
              0.1111111111111111,
              "#46039f"
             ],
             [
              0.2222222222222222,
              "#7201a8"
             ],
             [
              0.3333333333333333,
              "#9c179e"
             ],
             [
              0.4444444444444444,
              "#bd3786"
             ],
             [
              0.5555555555555556,
              "#d8576b"
             ],
             [
              0.6666666666666666,
              "#ed7953"
             ],
             [
              0.7777777777777778,
              "#fb9f3a"
             ],
             [
              0.8888888888888888,
              "#fdca26"
             ],
             [
              1.0,
              "#f0f921"
             ]
            ]
           }
          ],
          "choropleth": [
           {
            "type": "choropleth",
            "colorbar": {
             "outlinewidth": 0,
             "ticks": ""
            }
           }
          ],
          "histogram2d": [
           {
            "type": "histogram2d",
            "colorbar": {
             "outlinewidth": 0,
             "ticks": ""
            },
            "colorscale": [
             [
              0.0,
              "#0d0887"
             ],
             [
              0.1111111111111111,
              "#46039f"
             ],
             [
              0.2222222222222222,
              "#7201a8"
             ],
             [
              0.3333333333333333,
              "#9c179e"
             ],
             [
              0.4444444444444444,
              "#bd3786"
             ],
             [
              0.5555555555555556,
              "#d8576b"
             ],
             [
              0.6666666666666666,
              "#ed7953"
             ],
             [
              0.7777777777777778,
              "#fb9f3a"
             ],
             [
              0.8888888888888888,
              "#fdca26"
             ],
             [
              1.0,
              "#f0f921"
             ]
            ]
           }
          ],
          "heatmap": [
           {
            "type": "heatmap",
            "colorbar": {
             "outlinewidth": 0,
             "ticks": ""
            },
            "colorscale": [
             [
              0.0,
              "#0d0887"
             ],
             [
              0.1111111111111111,
              "#46039f"
             ],
             [
              0.2222222222222222,
              "#7201a8"
             ],
             [
              0.3333333333333333,
              "#9c179e"
             ],
             [
              0.4444444444444444,
              "#bd3786"
             ],
             [
              0.5555555555555556,
              "#d8576b"
             ],
             [
              0.6666666666666666,
              "#ed7953"
             ],
             [
              0.7777777777777778,
              "#fb9f3a"
             ],
             [
              0.8888888888888888,
              "#fdca26"
             ],
             [
              1.0,
              "#f0f921"
             ]
            ]
           }
          ],
          "contourcarpet": [
           {
            "type": "contourcarpet",
            "colorbar": {
             "outlinewidth": 0,
             "ticks": ""
            }
           }
          ],
          "contour": [
           {
            "type": "contour",
            "colorbar": {
             "outlinewidth": 0,
             "ticks": ""
            },
            "colorscale": [
             [
              0.0,
              "#0d0887"
             ],
             [
              0.1111111111111111,
              "#46039f"
             ],
             [
              0.2222222222222222,
              "#7201a8"
             ],
             [
              0.3333333333333333,
              "#9c179e"
             ],
             [
              0.4444444444444444,
              "#bd3786"
             ],
             [
              0.5555555555555556,
              "#d8576b"
             ],
             [
              0.6666666666666666,
              "#ed7953"
             ],
             [
              0.7777777777777778,
              "#fb9f3a"
             ],
             [
              0.8888888888888888,
              "#fdca26"
             ],
             [
              1.0,
              "#f0f921"
             ]
            ]
           }
          ],
          "surface": [
           {
            "type": "surface",
            "colorbar": {
             "outlinewidth": 0,
             "ticks": ""
            },
            "colorscale": [
             [
              0.0,
              "#0d0887"
             ],
             [
              0.1111111111111111,
              "#46039f"
             ],
             [
              0.2222222222222222,
              "#7201a8"
             ],
             [
              0.3333333333333333,
              "#9c179e"
             ],
             [
              0.4444444444444444,
              "#bd3786"
             ],
             [
              0.5555555555555556,
              "#d8576b"
             ],
             [
              0.6666666666666666,
              "#ed7953"
             ],
             [
              0.7777777777777778,
              "#fb9f3a"
             ],
             [
              0.8888888888888888,
              "#fdca26"
             ],
             [
              1.0,
              "#f0f921"
             ]
            ]
           }
          ],
          "mesh3d": [
           {
            "type": "mesh3d",
            "colorbar": {
             "outlinewidth": 0,
             "ticks": ""
            }
           }
          ],
          "scatter": [
           {
            "fillpattern": {
             "fillmode": "overlay",
             "size": 10,
             "solidity": 0.2
            },
            "type": "scatter"
           }
          ],
          "parcoords": [
           {
            "type": "parcoords",
            "line": {
             "colorbar": {
              "outlinewidth": 0,
              "ticks": ""
             }
            }
           }
          ],
          "scatterpolargl": [
           {
            "type": "scatterpolargl",
            "marker": {
             "colorbar": {
              "outlinewidth": 0,
              "ticks": ""
             }
            }
           }
          ],
          "bar": [
           {
            "error_x": {
             "color": "#2a3f5f"
            },
            "error_y": {
             "color": "#2a3f5f"
            },
            "marker": {
             "line": {
              "color": "#E5ECF6",
              "width": 0.5
             },
             "pattern": {
              "fillmode": "overlay",
              "size": 10,
              "solidity": 0.2
             }
            },
            "type": "bar"
           }
          ],
          "scattergeo": [
           {
            "type": "scattergeo",
            "marker": {
             "colorbar": {
              "outlinewidth": 0,
              "ticks": ""
             }
            }
           }
          ],
          "scatterpolar": [
           {
            "type": "scatterpolar",
            "marker": {
             "colorbar": {
              "outlinewidth": 0,
              "ticks": ""
             }
            }
           }
          ],
          "histogram": [
           {
            "marker": {
             "pattern": {
              "fillmode": "overlay",
              "size": 10,
              "solidity": 0.2
             }
            },
            "type": "histogram"
           }
          ],
          "scattergl": [
           {
            "type": "scattergl",
            "marker": {
             "colorbar": {
              "outlinewidth": 0,
              "ticks": ""
             }
            }
           }
          ],
          "scatter3d": [
           {
            "type": "scatter3d",
            "line": {
             "colorbar": {
              "outlinewidth": 0,
              "ticks": ""
             }
            },
            "marker": {
             "colorbar": {
              "outlinewidth": 0,
              "ticks": ""
             }
            }
           }
          ],
          "scattermap": [
           {
            "type": "scattermap",
            "marker": {
             "colorbar": {
              "outlinewidth": 0,
              "ticks": ""
             }
            }
           }
          ],
          "scattermapbox": [
           {
            "type": "scattermapbox",
            "marker": {
             "colorbar": {
              "outlinewidth": 0,
              "ticks": ""
             }
            }
           }
          ],
          "scatterternary": [
           {
            "type": "scatterternary",
            "marker": {
             "colorbar": {
              "outlinewidth": 0,
              "ticks": ""
             }
            }
           }
          ],
          "scattercarpet": [
           {
            "type": "scattercarpet",
            "marker": {
             "colorbar": {
              "outlinewidth": 0,
              "ticks": ""
             }
            }
           }
          ],
          "carpet": [
           {
            "aaxis": {
             "endlinecolor": "#2a3f5f",
             "gridcolor": "white",
             "linecolor": "white",
             "minorgridcolor": "white",
             "startlinecolor": "#2a3f5f"
            },
            "baxis": {
             "endlinecolor": "#2a3f5f",
             "gridcolor": "white",
             "linecolor": "white",
             "minorgridcolor": "white",
             "startlinecolor": "#2a3f5f"
            },
            "type": "carpet"
           }
          ],
          "table": [
           {
            "cells": {
             "fill": {
              "color": "#EBF0F8"
             },
             "line": {
              "color": "white"
             }
            },
            "header": {
             "fill": {
              "color": "#C8D4E3"
             },
             "line": {
              "color": "white"
             }
            },
            "type": "table"
           }
          ],
          "barpolar": [
           {
            "marker": {
             "line": {
              "color": "#E5ECF6",
              "width": 0.5
             },
             "pattern": {
              "fillmode": "overlay",
              "size": 10,
              "solidity": 0.2
             }
            },
            "type": "barpolar"
           }
          ],
          "pie": [
           {
            "automargin": true,
            "type": "pie"
           }
          ]
         },
         "layout": {
          "autotypenumbers": "strict",
          "colorway": [
           "#636efa",
           "#EF553B",
           "#00cc96",
           "#ab63fa",
           "#FFA15A",
           "#19d3f3",
           "#FF6692",
           "#B6E880",
           "#FF97FF",
           "#FECB52"
          ],
          "font": {
           "color": "#2a3f5f"
          },
          "hovermode": "closest",
          "hoverlabel": {
           "align": "left"
          },
          "paper_bgcolor": "white",
          "plot_bgcolor": "#E5ECF6",
          "polar": {
           "bgcolor": "#E5ECF6",
           "angularaxis": {
            "gridcolor": "white",
            "linecolor": "white",
            "ticks": ""
           },
           "radialaxis": {
            "gridcolor": "white",
            "linecolor": "white",
            "ticks": ""
           }
          },
          "ternary": {
           "bgcolor": "#E5ECF6",
           "aaxis": {
            "gridcolor": "white",
            "linecolor": "white",
            "ticks": ""
           },
           "baxis": {
            "gridcolor": "white",
            "linecolor": "white",
            "ticks": ""
           },
           "caxis": {
            "gridcolor": "white",
            "linecolor": "white",
            "ticks": ""
           }
          },
          "coloraxis": {
           "colorbar": {
            "outlinewidth": 0,
            "ticks": ""
           }
          },
          "colorscale": {
           "sequential": [
            [
             0.0,
             "#0d0887"
            ],
            [
             0.1111111111111111,
             "#46039f"
            ],
            [
             0.2222222222222222,
             "#7201a8"
            ],
            [
             0.3333333333333333,
             "#9c179e"
            ],
            [
             0.4444444444444444,
             "#bd3786"
            ],
            [
             0.5555555555555556,
             "#d8576b"
            ],
            [
             0.6666666666666666,
             "#ed7953"
            ],
            [
             0.7777777777777778,
             "#fb9f3a"
            ],
            [
             0.8888888888888888,
             "#fdca26"
            ],
            [
             1.0,
             "#f0f921"
            ]
           ],
           "sequentialminus": [
            [
             0.0,
             "#0d0887"
            ],
            [
             0.1111111111111111,
             "#46039f"
            ],
            [
             0.2222222222222222,
             "#7201a8"
            ],
            [
             0.3333333333333333,
             "#9c179e"
            ],
            [
             0.4444444444444444,
             "#bd3786"
            ],
            [
             0.5555555555555556,
             "#d8576b"
            ],
            [
             0.6666666666666666,
             "#ed7953"
            ],
            [
             0.7777777777777778,
             "#fb9f3a"
            ],
            [
             0.8888888888888888,
             "#fdca26"
            ],
            [
             1.0,
             "#f0f921"
            ]
           ],
           "diverging": [
            [
             0,
             "#8e0152"
            ],
            [
             0.1,
             "#c51b7d"
            ],
            [
             0.2,
             "#de77ae"
            ],
            [
             0.3,
             "#f1b6da"
            ],
            [
             0.4,
             "#fde0ef"
            ],
            [
             0.5,
             "#f7f7f7"
            ],
            [
             0.6,
             "#e6f5d0"
            ],
            [
             0.7,
             "#b8e186"
            ],
            [
             0.8,
             "#7fbc41"
            ],
            [
             0.9,
             "#4d9221"
            ],
            [
             1,
             "#276419"
            ]
           ]
          },
          "xaxis": {
           "gridcolor": "white",
           "linecolor": "white",
           "ticks": "",
           "title": {
            "standoff": 15
           },
           "zerolinecolor": "white",
           "automargin": true,
           "zerolinewidth": 2
          },
          "yaxis": {
           "gridcolor": "white",
           "linecolor": "white",
           "ticks": "",
           "title": {
            "standoff": 15
           },
           "zerolinecolor": "white",
           "automargin": true,
           "zerolinewidth": 2
          },
          "scene": {
           "xaxis": {
            "backgroundcolor": "#E5ECF6",
            "gridcolor": "white",
            "linecolor": "white",
            "showbackground": true,
            "ticks": "",
            "zerolinecolor": "white",
            "gridwidth": 2
           },
           "yaxis": {
            "backgroundcolor": "#E5ECF6",
            "gridcolor": "white",
            "linecolor": "white",
            "showbackground": true,
            "ticks": "",
            "zerolinecolor": "white",
            "gridwidth": 2
           },
           "zaxis": {
            "backgroundcolor": "#E5ECF6",
            "gridcolor": "white",
            "linecolor": "white",
            "showbackground": true,
            "ticks": "",
            "zerolinecolor": "white",
            "gridwidth": 2
           }
          },
          "shapedefaults": {
           "line": {
            "color": "#2a3f5f"
           }
          },
          "annotationdefaults": {
           "arrowcolor": "#2a3f5f",
           "arrowhead": 0,
           "arrowwidth": 1
          },
          "geo": {
           "bgcolor": "white",
           "landcolor": "#E5ECF6",
           "subunitcolor": "white",
           "showland": true,
           "showlakes": true,
           "lakecolor": "white"
          },
          "title": {
           "x": 0.05
          },
          "mapbox": {
           "style": "light"
          }
         }
        },
        "xaxis": {
         "anchor": "y",
         "domain": [
          0.0,
          1.0
         ],
         "title": {
          "text": "sentence_pair"
         }
        },
        "yaxis": {
         "anchor": "x",
         "domain": [
          0.0,
          1.0
         ],
         "title": {
          "text": "value"
         }
        },
        "legend": {
         "title": {
          "text": "variable"
         },
         "tracegroupgap": 0
        },
        "title": {
         "text": "Cosine Similarity vs. Embedding Dimensions"
        }
       },
       "config": {
        "plotlyServerURL": "https://plot.ly"
       }
      }
     },
     "metadata": {},
     "output_type": "display_data",
     "jetTransient": {
      "display_id": null
     }
    }
   ],
   "execution_count": 54
  },
  {
   "metadata": {},
   "cell_type": "markdown",
   "source": "# Find percentage errors from full measurements",
   "id": "1312ee1c3a55f974"
  },
  {
   "metadata": {},
   "cell_type": "markdown",
   "source": "## full vs 64 dims",
   "id": "b046ec431fc62c30"
  },
  {
   "metadata": {
    "ExecuteTime": {
     "end_time": "2025-09-19T13:19:26.053239Z",
     "start_time": "2025-09-19T13:19:26.047424Z"
    }
   },
   "cell_type": "code",
   "source": [
    "df['error_full_64'] = df['full']-df['64']\n",
    "df"
   ],
   "id": "3e62323bb3108629",
   "outputs": [
    {
     "data": {
      "text/plain": [
       "                   full        64       128       256       512  error_full_64\n",
       "sentence_pair                                                                 \n",
       "pair_0_1       0.742151  0.685031  0.735912  0.767135  0.753484       0.057120\n",
       "pair_0_2       0.058596  0.204897  0.173227  0.054994  0.028905      -0.146301\n",
       "pair_0_3       0.045141  0.163824  0.097305  0.097908  0.039964      -0.118683\n",
       "pair_1_2       0.019115  0.134127  0.102964  0.025739  0.024246      -0.115012\n",
       "pair_1_3       0.068258  0.157765  0.111980  0.125428  0.082926      -0.089507\n",
       "pair_2_3       0.723846  0.697904  0.696966  0.715847  0.743383       0.025942"
      ],
      "text/html": [
       "<div>\n",
       "<style scoped>\n",
       "    .dataframe tbody tr th:only-of-type {\n",
       "        vertical-align: middle;\n",
       "    }\n",
       "\n",
       "    .dataframe tbody tr th {\n",
       "        vertical-align: top;\n",
       "    }\n",
       "\n",
       "    .dataframe thead th {\n",
       "        text-align: right;\n",
       "    }\n",
       "</style>\n",
       "<table border=\"1\" class=\"dataframe\">\n",
       "  <thead>\n",
       "    <tr style=\"text-align: right;\">\n",
       "      <th></th>\n",
       "      <th>full</th>\n",
       "      <th>64</th>\n",
       "      <th>128</th>\n",
       "      <th>256</th>\n",
       "      <th>512</th>\n",
       "      <th>error_full_64</th>\n",
       "    </tr>\n",
       "    <tr>\n",
       "      <th>sentence_pair</th>\n",
       "      <th></th>\n",
       "      <th></th>\n",
       "      <th></th>\n",
       "      <th></th>\n",
       "      <th></th>\n",
       "      <th></th>\n",
       "    </tr>\n",
       "  </thead>\n",
       "  <tbody>\n",
       "    <tr>\n",
       "      <th>pair_0_1</th>\n",
       "      <td>0.742151</td>\n",
       "      <td>0.685031</td>\n",
       "      <td>0.735912</td>\n",
       "      <td>0.767135</td>\n",
       "      <td>0.753484</td>\n",
       "      <td>0.057120</td>\n",
       "    </tr>\n",
       "    <tr>\n",
       "      <th>pair_0_2</th>\n",
       "      <td>0.058596</td>\n",
       "      <td>0.204897</td>\n",
       "      <td>0.173227</td>\n",
       "      <td>0.054994</td>\n",
       "      <td>0.028905</td>\n",
       "      <td>-0.146301</td>\n",
       "    </tr>\n",
       "    <tr>\n",
       "      <th>pair_0_3</th>\n",
       "      <td>0.045141</td>\n",
       "      <td>0.163824</td>\n",
       "      <td>0.097305</td>\n",
       "      <td>0.097908</td>\n",
       "      <td>0.039964</td>\n",
       "      <td>-0.118683</td>\n",
       "    </tr>\n",
       "    <tr>\n",
       "      <th>pair_1_2</th>\n",
       "      <td>0.019115</td>\n",
       "      <td>0.134127</td>\n",
       "      <td>0.102964</td>\n",
       "      <td>0.025739</td>\n",
       "      <td>0.024246</td>\n",
       "      <td>-0.115012</td>\n",
       "    </tr>\n",
       "    <tr>\n",
       "      <th>pair_1_3</th>\n",
       "      <td>0.068258</td>\n",
       "      <td>0.157765</td>\n",
       "      <td>0.111980</td>\n",
       "      <td>0.125428</td>\n",
       "      <td>0.082926</td>\n",
       "      <td>-0.089507</td>\n",
       "    </tr>\n",
       "    <tr>\n",
       "      <th>pair_2_3</th>\n",
       "      <td>0.723846</td>\n",
       "      <td>0.697904</td>\n",
       "      <td>0.696966</td>\n",
       "      <td>0.715847</td>\n",
       "      <td>0.743383</td>\n",
       "      <td>0.025942</td>\n",
       "    </tr>\n",
       "  </tbody>\n",
       "</table>\n",
       "</div>"
      ]
     },
     "execution_count": 45,
     "metadata": {},
     "output_type": "execute_result"
    }
   ],
   "execution_count": 45
  },
  {
   "metadata": {
    "ExecuteTime": {
     "end_time": "2025-09-19T13:19:26.177434Z",
     "start_time": "2025-09-19T13:19:26.171546Z"
    }
   },
   "cell_type": "code",
   "source": [
    "df['error_full_128'] = df['full']-df['128']\n",
    "df['error_full_256'] = df['full']-df['256']\n",
    "df['error_full_512'] = df['full']-df['512']\n",
    "df"
   ],
   "id": "cea5420f5a065391",
   "outputs": [
    {
     "data": {
      "text/plain": [
       "                   full        64       128       256       512  \\\n",
       "sentence_pair                                                     \n",
       "pair_0_1       0.742151  0.685031  0.735912  0.767135  0.753484   \n",
       "pair_0_2       0.058596  0.204897  0.173227  0.054994  0.028905   \n",
       "pair_0_3       0.045141  0.163824  0.097305  0.097908  0.039964   \n",
       "pair_1_2       0.019115  0.134127  0.102964  0.025739  0.024246   \n",
       "pair_1_3       0.068258  0.157765  0.111980  0.125428  0.082926   \n",
       "pair_2_3       0.723846  0.697904  0.696966  0.715847  0.743383   \n",
       "\n",
       "               error_full_64  error_full_128  error_full_256  error_full_512  \n",
       "sentence_pair                                                                 \n",
       "pair_0_1            0.057120        0.006240       -0.024984       -0.011333  \n",
       "pair_0_2           -0.146301       -0.114631        0.003602        0.029691  \n",
       "pair_0_3           -0.118683       -0.052164       -0.052768        0.005177  \n",
       "pair_1_2           -0.115012       -0.083848       -0.006624       -0.005131  \n",
       "pair_1_3           -0.089507       -0.043722       -0.057170       -0.014668  \n",
       "pair_2_3            0.025942        0.026880        0.007999       -0.019537  "
      ],
      "text/html": [
       "<div>\n",
       "<style scoped>\n",
       "    .dataframe tbody tr th:only-of-type {\n",
       "        vertical-align: middle;\n",
       "    }\n",
       "\n",
       "    .dataframe tbody tr th {\n",
       "        vertical-align: top;\n",
       "    }\n",
       "\n",
       "    .dataframe thead th {\n",
       "        text-align: right;\n",
       "    }\n",
       "</style>\n",
       "<table border=\"1\" class=\"dataframe\">\n",
       "  <thead>\n",
       "    <tr style=\"text-align: right;\">\n",
       "      <th></th>\n",
       "      <th>full</th>\n",
       "      <th>64</th>\n",
       "      <th>128</th>\n",
       "      <th>256</th>\n",
       "      <th>512</th>\n",
       "      <th>error_full_64</th>\n",
       "      <th>error_full_128</th>\n",
       "      <th>error_full_256</th>\n",
       "      <th>error_full_512</th>\n",
       "    </tr>\n",
       "    <tr>\n",
       "      <th>sentence_pair</th>\n",
       "      <th></th>\n",
       "      <th></th>\n",
       "      <th></th>\n",
       "      <th></th>\n",
       "      <th></th>\n",
       "      <th></th>\n",
       "      <th></th>\n",
       "      <th></th>\n",
       "      <th></th>\n",
       "    </tr>\n",
       "  </thead>\n",
       "  <tbody>\n",
       "    <tr>\n",
       "      <th>pair_0_1</th>\n",
       "      <td>0.742151</td>\n",
       "      <td>0.685031</td>\n",
       "      <td>0.735912</td>\n",
       "      <td>0.767135</td>\n",
       "      <td>0.753484</td>\n",
       "      <td>0.057120</td>\n",
       "      <td>0.006240</td>\n",
       "      <td>-0.024984</td>\n",
       "      <td>-0.011333</td>\n",
       "    </tr>\n",
       "    <tr>\n",
       "      <th>pair_0_2</th>\n",
       "      <td>0.058596</td>\n",
       "      <td>0.204897</td>\n",
       "      <td>0.173227</td>\n",
       "      <td>0.054994</td>\n",
       "      <td>0.028905</td>\n",
       "      <td>-0.146301</td>\n",
       "      <td>-0.114631</td>\n",
       "      <td>0.003602</td>\n",
       "      <td>0.029691</td>\n",
       "    </tr>\n",
       "    <tr>\n",
       "      <th>pair_0_3</th>\n",
       "      <td>0.045141</td>\n",
       "      <td>0.163824</td>\n",
       "      <td>0.097305</td>\n",
       "      <td>0.097908</td>\n",
       "      <td>0.039964</td>\n",
       "      <td>-0.118683</td>\n",
       "      <td>-0.052164</td>\n",
       "      <td>-0.052768</td>\n",
       "      <td>0.005177</td>\n",
       "    </tr>\n",
       "    <tr>\n",
       "      <th>pair_1_2</th>\n",
       "      <td>0.019115</td>\n",
       "      <td>0.134127</td>\n",
       "      <td>0.102964</td>\n",
       "      <td>0.025739</td>\n",
       "      <td>0.024246</td>\n",
       "      <td>-0.115012</td>\n",
       "      <td>-0.083848</td>\n",
       "      <td>-0.006624</td>\n",
       "      <td>-0.005131</td>\n",
       "    </tr>\n",
       "    <tr>\n",
       "      <th>pair_1_3</th>\n",
       "      <td>0.068258</td>\n",
       "      <td>0.157765</td>\n",
       "      <td>0.111980</td>\n",
       "      <td>0.125428</td>\n",
       "      <td>0.082926</td>\n",
       "      <td>-0.089507</td>\n",
       "      <td>-0.043722</td>\n",
       "      <td>-0.057170</td>\n",
       "      <td>-0.014668</td>\n",
       "    </tr>\n",
       "    <tr>\n",
       "      <th>pair_2_3</th>\n",
       "      <td>0.723846</td>\n",
       "      <td>0.697904</td>\n",
       "      <td>0.696966</td>\n",
       "      <td>0.715847</td>\n",
       "      <td>0.743383</td>\n",
       "      <td>0.025942</td>\n",
       "      <td>0.026880</td>\n",
       "      <td>0.007999</td>\n",
       "      <td>-0.019537</td>\n",
       "    </tr>\n",
       "  </tbody>\n",
       "</table>\n",
       "</div>"
      ]
     },
     "execution_count": 46,
     "metadata": {},
     "output_type": "execute_result"
    }
   ],
   "execution_count": 46
  },
  {
   "metadata": {
    "ExecuteTime": {
     "end_time": "2025-09-19T13:19:26.445760Z",
     "start_time": "2025-09-19T13:19:26.421894Z"
    }
   },
   "cell_type": "code",
   "source": [
    "errors_df = df[[\n",
    "    'error_full_64',\n",
    "    'error_full_128',\n",
    "'error_full_256',\n",
    "'error_full_512',]].copy()\n",
    "errors_df"
   ],
   "id": "7143e4bd73df66d",
   "outputs": [
    {
     "data": {
      "text/plain": [
       "               error_full_64  error_full_128  error_full_256  error_full_512\n",
       "sentence_pair                                                               \n",
       "pair_0_1            0.057120        0.006240       -0.024984       -0.011333\n",
       "pair_0_2           -0.146301       -0.114631        0.003602        0.029691\n",
       "pair_0_3           -0.118683       -0.052164       -0.052768        0.005177\n",
       "pair_1_2           -0.115012       -0.083848       -0.006624       -0.005131\n",
       "pair_1_3           -0.089507       -0.043722       -0.057170       -0.014668\n",
       "pair_2_3            0.025942        0.026880        0.007999       -0.019537"
      ],
      "text/html": [
       "<div>\n",
       "<style scoped>\n",
       "    .dataframe tbody tr th:only-of-type {\n",
       "        vertical-align: middle;\n",
       "    }\n",
       "\n",
       "    .dataframe tbody tr th {\n",
       "        vertical-align: top;\n",
       "    }\n",
       "\n",
       "    .dataframe thead th {\n",
       "        text-align: right;\n",
       "    }\n",
       "</style>\n",
       "<table border=\"1\" class=\"dataframe\">\n",
       "  <thead>\n",
       "    <tr style=\"text-align: right;\">\n",
       "      <th></th>\n",
       "      <th>error_full_64</th>\n",
       "      <th>error_full_128</th>\n",
       "      <th>error_full_256</th>\n",
       "      <th>error_full_512</th>\n",
       "    </tr>\n",
       "    <tr>\n",
       "      <th>sentence_pair</th>\n",
       "      <th></th>\n",
       "      <th></th>\n",
       "      <th></th>\n",
       "      <th></th>\n",
       "    </tr>\n",
       "  </thead>\n",
       "  <tbody>\n",
       "    <tr>\n",
       "      <th>pair_0_1</th>\n",
       "      <td>0.057120</td>\n",
       "      <td>0.006240</td>\n",
       "      <td>-0.024984</td>\n",
       "      <td>-0.011333</td>\n",
       "    </tr>\n",
       "    <tr>\n",
       "      <th>pair_0_2</th>\n",
       "      <td>-0.146301</td>\n",
       "      <td>-0.114631</td>\n",
       "      <td>0.003602</td>\n",
       "      <td>0.029691</td>\n",
       "    </tr>\n",
       "    <tr>\n",
       "      <th>pair_0_3</th>\n",
       "      <td>-0.118683</td>\n",
       "      <td>-0.052164</td>\n",
       "      <td>-0.052768</td>\n",
       "      <td>0.005177</td>\n",
       "    </tr>\n",
       "    <tr>\n",
       "      <th>pair_1_2</th>\n",
       "      <td>-0.115012</td>\n",
       "      <td>-0.083848</td>\n",
       "      <td>-0.006624</td>\n",
       "      <td>-0.005131</td>\n",
       "    </tr>\n",
       "    <tr>\n",
       "      <th>pair_1_3</th>\n",
       "      <td>-0.089507</td>\n",
       "      <td>-0.043722</td>\n",
       "      <td>-0.057170</td>\n",
       "      <td>-0.014668</td>\n",
       "    </tr>\n",
       "    <tr>\n",
       "      <th>pair_2_3</th>\n",
       "      <td>0.025942</td>\n",
       "      <td>0.026880</td>\n",
       "      <td>0.007999</td>\n",
       "      <td>-0.019537</td>\n",
       "    </tr>\n",
       "  </tbody>\n",
       "</table>\n",
       "</div>"
      ]
     },
     "execution_count": 47,
     "metadata": {},
     "output_type": "execute_result"
    }
   ],
   "execution_count": 47
  },
  {
   "metadata": {},
   "cell_type": "markdown",
   "source": "## Plot the absolute value of errors",
   "id": "3023fccf4961801d"
  },
  {
   "metadata": {
    "ExecuteTime": {
     "end_time": "2025-09-19T13:19:26.542574Z",
     "start_time": "2025-09-19T13:19:26.513837Z"
    }
   },
   "cell_type": "code",
   "source": [
    "fig = px.line(\n",
    "    errors_df.abs(),\n",
    "    title='Errors vs. Embedding Dimensions',\n",
    "    markers=True,\n",
    ")\n",
    "fig.show()"
   ],
   "id": "be720647a1bd22af",
   "outputs": [
    {
     "data": {
      "application/vnd.plotly.v1+json": {
       "data": [
        {
         "hovertemplate": "variable=error_full_64<br>sentence_pair=%{x}<br>value=%{y}<extra></extra>",
         "legendgroup": "error_full_64",
         "line": {
          "color": "#636efa",
          "dash": "solid"
         },
         "marker": {
          "symbol": "circle"
         },
         "mode": "lines+markers",
         "name": "error_full_64",
         "orientation": "v",
         "showlegend": true,
         "x": [
          "pair_0_1",
          "pair_0_2",
          "pair_0_3",
          "pair_1_2",
          "pair_1_3",
          "pair_2_3"
         ],
         "xaxis": "x",
         "y": {
          "dtype": "f8",
          "bdata": "oAxgWdo+rT9ytBwy/LnCPyUcFrYFYr4/hhMTS3FxvT85Gqn88Om2P8CXtj97kJo/"
         },
         "yaxis": "y",
         "type": "scatter"
        },
        {
         "hovertemplate": "variable=error_full_128<br>sentence_pair=%{x}<br>value=%{y}<extra></extra>",
         "legendgroup": "error_full_128",
         "line": {
          "color": "#EF553B",
          "dash": "solid"
         },
         "marker": {
          "symbol": "circle"
         },
         "mode": "lines+markers",
         "name": "error_full_128",
         "orientation": "v",
         "showlegend": true,
         "x": [
          "pair_0_1",
          "pair_0_2",
          "pair_0_3",
          "pair_1_2",
          "pair_1_3",
          "pair_2_3"
         ],
         "xaxis": "x",
         "y": {
          "dtype": "f8",
          "bdata": "gHtP98+OeT91z5IEdVi9P7pXAqU7tao/gkn2shd3tT+qwtLPwWKmP8DnfSNshps/"
         },
         "yaxis": "y",
         "type": "scatter"
        },
        {
         "hovertemplate": "variable=error_full_256<br>sentence_pair=%{x}<br>value=%{y}<extra></extra>",
         "legendgroup": "error_full_256",
         "line": {
          "color": "#00cc96",
          "dash": "solid"
         },
         "marker": {
          "symbol": "circle"
         },
         "mode": "lines+markers",
         "name": "error_full_256",
         "orientation": "v",
         "showlegend": true,
         "x": [
          "pair_0_1",
          "pair_0_2",
          "pair_0_3",
          "pair_1_2",
          "pair_1_3",
          "pair_2_3"
         ],
         "xaxis": "x",
         "y": {
          "dtype": "f8",
          "bdata": "gGUQ9nCVmT+g91ctV4JtPw64GnBaBKs/vDn2gLwhez/SBb2xVUWtPwDiB0L/YYA/"
         },
         "yaxis": "y",
         "type": "scatter"
        },
        {
         "hovertemplate": "variable=error_full_512<br>sentence_pair=%{x}<br>value=%{y}<extra></extra>",
         "legendgroup": "error_full_512",
         "line": {
          "color": "#ab63fa",
          "dash": "solid"
         },
         "marker": {
          "symbol": "circle"
         },
         "mode": "lines+markers",
         "name": "error_full_512",
         "orientation": "v",
         "showlegend": true,
         "x": [
          "pair_0_1",
          "pair_0_2",
          "pair_0_3",
          "pair_1_2",
          "pair_1_3",
          "pair_2_3"
         ],
         "xaxis": "x",
         "y": {
          "dtype": "f8",
          "bdata": "AAEaJso1hz9Ee2GtYmeeP6g2AE36M3U/AN7+etEDdT9IWd1XSQqOP2D//edgAZQ/"
         },
         "yaxis": "y",
         "type": "scatter"
        }
       ],
       "layout": {
        "template": {
         "data": {
          "histogram2dcontour": [
           {
            "type": "histogram2dcontour",
            "colorbar": {
             "outlinewidth": 0,
             "ticks": ""
            },
            "colorscale": [
             [
              0.0,
              "#0d0887"
             ],
             [
              0.1111111111111111,
              "#46039f"
             ],
             [
              0.2222222222222222,
              "#7201a8"
             ],
             [
              0.3333333333333333,
              "#9c179e"
             ],
             [
              0.4444444444444444,
              "#bd3786"
             ],
             [
              0.5555555555555556,
              "#d8576b"
             ],
             [
              0.6666666666666666,
              "#ed7953"
             ],
             [
              0.7777777777777778,
              "#fb9f3a"
             ],
             [
              0.8888888888888888,
              "#fdca26"
             ],
             [
              1.0,
              "#f0f921"
             ]
            ]
           }
          ],
          "choropleth": [
           {
            "type": "choropleth",
            "colorbar": {
             "outlinewidth": 0,
             "ticks": ""
            }
           }
          ],
          "histogram2d": [
           {
            "type": "histogram2d",
            "colorbar": {
             "outlinewidth": 0,
             "ticks": ""
            },
            "colorscale": [
             [
              0.0,
              "#0d0887"
             ],
             [
              0.1111111111111111,
              "#46039f"
             ],
             [
              0.2222222222222222,
              "#7201a8"
             ],
             [
              0.3333333333333333,
              "#9c179e"
             ],
             [
              0.4444444444444444,
              "#bd3786"
             ],
             [
              0.5555555555555556,
              "#d8576b"
             ],
             [
              0.6666666666666666,
              "#ed7953"
             ],
             [
              0.7777777777777778,
              "#fb9f3a"
             ],
             [
              0.8888888888888888,
              "#fdca26"
             ],
             [
              1.0,
              "#f0f921"
             ]
            ]
           }
          ],
          "heatmap": [
           {
            "type": "heatmap",
            "colorbar": {
             "outlinewidth": 0,
             "ticks": ""
            },
            "colorscale": [
             [
              0.0,
              "#0d0887"
             ],
             [
              0.1111111111111111,
              "#46039f"
             ],
             [
              0.2222222222222222,
              "#7201a8"
             ],
             [
              0.3333333333333333,
              "#9c179e"
             ],
             [
              0.4444444444444444,
              "#bd3786"
             ],
             [
              0.5555555555555556,
              "#d8576b"
             ],
             [
              0.6666666666666666,
              "#ed7953"
             ],
             [
              0.7777777777777778,
              "#fb9f3a"
             ],
             [
              0.8888888888888888,
              "#fdca26"
             ],
             [
              1.0,
              "#f0f921"
             ]
            ]
           }
          ],
          "contourcarpet": [
           {
            "type": "contourcarpet",
            "colorbar": {
             "outlinewidth": 0,
             "ticks": ""
            }
           }
          ],
          "contour": [
           {
            "type": "contour",
            "colorbar": {
             "outlinewidth": 0,
             "ticks": ""
            },
            "colorscale": [
             [
              0.0,
              "#0d0887"
             ],
             [
              0.1111111111111111,
              "#46039f"
             ],
             [
              0.2222222222222222,
              "#7201a8"
             ],
             [
              0.3333333333333333,
              "#9c179e"
             ],
             [
              0.4444444444444444,
              "#bd3786"
             ],
             [
              0.5555555555555556,
              "#d8576b"
             ],
             [
              0.6666666666666666,
              "#ed7953"
             ],
             [
              0.7777777777777778,
              "#fb9f3a"
             ],
             [
              0.8888888888888888,
              "#fdca26"
             ],
             [
              1.0,
              "#f0f921"
             ]
            ]
           }
          ],
          "surface": [
           {
            "type": "surface",
            "colorbar": {
             "outlinewidth": 0,
             "ticks": ""
            },
            "colorscale": [
             [
              0.0,
              "#0d0887"
             ],
             [
              0.1111111111111111,
              "#46039f"
             ],
             [
              0.2222222222222222,
              "#7201a8"
             ],
             [
              0.3333333333333333,
              "#9c179e"
             ],
             [
              0.4444444444444444,
              "#bd3786"
             ],
             [
              0.5555555555555556,
              "#d8576b"
             ],
             [
              0.6666666666666666,
              "#ed7953"
             ],
             [
              0.7777777777777778,
              "#fb9f3a"
             ],
             [
              0.8888888888888888,
              "#fdca26"
             ],
             [
              1.0,
              "#f0f921"
             ]
            ]
           }
          ],
          "mesh3d": [
           {
            "type": "mesh3d",
            "colorbar": {
             "outlinewidth": 0,
             "ticks": ""
            }
           }
          ],
          "scatter": [
           {
            "marker": {
             "line": {
              "color": "#283442"
             }
            },
            "type": "scatter"
           }
          ],
          "parcoords": [
           {
            "type": "parcoords",
            "line": {
             "colorbar": {
              "outlinewidth": 0,
              "ticks": ""
             }
            }
           }
          ],
          "scatterpolargl": [
           {
            "type": "scatterpolargl",
            "marker": {
             "colorbar": {
              "outlinewidth": 0,
              "ticks": ""
             }
            }
           }
          ],
          "bar": [
           {
            "error_x": {
             "color": "#f2f5fa"
            },
            "error_y": {
             "color": "#f2f5fa"
            },
            "marker": {
             "line": {
              "color": "rgb(17,17,17)",
              "width": 0.5
             },
             "pattern": {
              "fillmode": "overlay",
              "size": 10,
              "solidity": 0.2
             }
            },
            "type": "bar"
           }
          ],
          "scattergeo": [
           {
            "type": "scattergeo",
            "marker": {
             "colorbar": {
              "outlinewidth": 0,
              "ticks": ""
             }
            }
           }
          ],
          "scatterpolar": [
           {
            "type": "scatterpolar",
            "marker": {
             "colorbar": {
              "outlinewidth": 0,
              "ticks": ""
             }
            }
           }
          ],
          "histogram": [
           {
            "marker": {
             "pattern": {
              "fillmode": "overlay",
              "size": 10,
              "solidity": 0.2
             }
            },
            "type": "histogram"
           }
          ],
          "scattergl": [
           {
            "marker": {
             "line": {
              "color": "#283442"
             }
            },
            "type": "scattergl"
           }
          ],
          "scatter3d": [
           {
            "type": "scatter3d",
            "line": {
             "colorbar": {
              "outlinewidth": 0,
              "ticks": ""
             }
            },
            "marker": {
             "colorbar": {
              "outlinewidth": 0,
              "ticks": ""
             }
            }
           }
          ],
          "scattermap": [
           {
            "type": "scattermap",
            "marker": {
             "colorbar": {
              "outlinewidth": 0,
              "ticks": ""
             }
            }
           }
          ],
          "scattermapbox": [
           {
            "type": "scattermapbox",
            "marker": {
             "colorbar": {
              "outlinewidth": 0,
              "ticks": ""
             }
            }
           }
          ],
          "scatterternary": [
           {
            "type": "scatterternary",
            "marker": {
             "colorbar": {
              "outlinewidth": 0,
              "ticks": ""
             }
            }
           }
          ],
          "scattercarpet": [
           {
            "type": "scattercarpet",
            "marker": {
             "colorbar": {
              "outlinewidth": 0,
              "ticks": ""
             }
            }
           }
          ],
          "carpet": [
           {
            "aaxis": {
             "endlinecolor": "#A2B1C6",
             "gridcolor": "#506784",
             "linecolor": "#506784",
             "minorgridcolor": "#506784",
             "startlinecolor": "#A2B1C6"
            },
            "baxis": {
             "endlinecolor": "#A2B1C6",
             "gridcolor": "#506784",
             "linecolor": "#506784",
             "minorgridcolor": "#506784",
             "startlinecolor": "#A2B1C6"
            },
            "type": "carpet"
           }
          ],
          "table": [
           {
            "cells": {
             "fill": {
              "color": "#506784"
             },
             "line": {
              "color": "rgb(17,17,17)"
             }
            },
            "header": {
             "fill": {
              "color": "#2a3f5f"
             },
             "line": {
              "color": "rgb(17,17,17)"
             }
            },
            "type": "table"
           }
          ],
          "barpolar": [
           {
            "marker": {
             "line": {
              "color": "rgb(17,17,17)",
              "width": 0.5
             },
             "pattern": {
              "fillmode": "overlay",
              "size": 10,
              "solidity": 0.2
             }
            },
            "type": "barpolar"
           }
          ],
          "pie": [
           {
            "automargin": true,
            "type": "pie"
           }
          ]
         },
         "layout": {
          "autotypenumbers": "strict",
          "colorway": [
           "#636efa",
           "#EF553B",
           "#00cc96",
           "#ab63fa",
           "#FFA15A",
           "#19d3f3",
           "#FF6692",
           "#B6E880",
           "#FF97FF",
           "#FECB52"
          ],
          "font": {
           "color": "#f2f5fa"
          },
          "hovermode": "closest",
          "hoverlabel": {
           "align": "left"
          },
          "paper_bgcolor": "rgb(17,17,17)",
          "plot_bgcolor": "rgb(17,17,17)",
          "polar": {
           "bgcolor": "rgb(17,17,17)",
           "angularaxis": {
            "gridcolor": "#506784",
            "linecolor": "#506784",
            "ticks": ""
           },
           "radialaxis": {
            "gridcolor": "#506784",
            "linecolor": "#506784",
            "ticks": ""
           }
          },
          "ternary": {
           "bgcolor": "rgb(17,17,17)",
           "aaxis": {
            "gridcolor": "#506784",
            "linecolor": "#506784",
            "ticks": ""
           },
           "baxis": {
            "gridcolor": "#506784",
            "linecolor": "#506784",
            "ticks": ""
           },
           "caxis": {
            "gridcolor": "#506784",
            "linecolor": "#506784",
            "ticks": ""
           }
          },
          "coloraxis": {
           "colorbar": {
            "outlinewidth": 0,
            "ticks": ""
           }
          },
          "colorscale": {
           "sequential": [
            [
             0.0,
             "#0d0887"
            ],
            [
             0.1111111111111111,
             "#46039f"
            ],
            [
             0.2222222222222222,
             "#7201a8"
            ],
            [
             0.3333333333333333,
             "#9c179e"
            ],
            [
             0.4444444444444444,
             "#bd3786"
            ],
            [
             0.5555555555555556,
             "#d8576b"
            ],
            [
             0.6666666666666666,
             "#ed7953"
            ],
            [
             0.7777777777777778,
             "#fb9f3a"
            ],
            [
             0.8888888888888888,
             "#fdca26"
            ],
            [
             1.0,
             "#f0f921"
            ]
           ],
           "sequentialminus": [
            [
             0.0,
             "#0d0887"
            ],
            [
             0.1111111111111111,
             "#46039f"
            ],
            [
             0.2222222222222222,
             "#7201a8"
            ],
            [
             0.3333333333333333,
             "#9c179e"
            ],
            [
             0.4444444444444444,
             "#bd3786"
            ],
            [
             0.5555555555555556,
             "#d8576b"
            ],
            [
             0.6666666666666666,
             "#ed7953"
            ],
            [
             0.7777777777777778,
             "#fb9f3a"
            ],
            [
             0.8888888888888888,
             "#fdca26"
            ],
            [
             1.0,
             "#f0f921"
            ]
           ],
           "diverging": [
            [
             0,
             "#8e0152"
            ],
            [
             0.1,
             "#c51b7d"
            ],
            [
             0.2,
             "#de77ae"
            ],
            [
             0.3,
             "#f1b6da"
            ],
            [
             0.4,
             "#fde0ef"
            ],
            [
             0.5,
             "#f7f7f7"
            ],
            [
             0.6,
             "#e6f5d0"
            ],
            [
             0.7,
             "#b8e186"
            ],
            [
             0.8,
             "#7fbc41"
            ],
            [
             0.9,
             "#4d9221"
            ],
            [
             1,
             "#276419"
            ]
           ]
          },
          "xaxis": {
           "gridcolor": "#283442",
           "linecolor": "#506784",
           "ticks": "",
           "title": {
            "standoff": 15
           },
           "zerolinecolor": "#283442",
           "automargin": true,
           "zerolinewidth": 2
          },
          "yaxis": {
           "gridcolor": "#283442",
           "linecolor": "#506784",
           "ticks": "",
           "title": {
            "standoff": 15
           },
           "zerolinecolor": "#283442",
           "automargin": true,
           "zerolinewidth": 2
          },
          "scene": {
           "xaxis": {
            "backgroundcolor": "rgb(17,17,17)",
            "gridcolor": "#506784",
            "linecolor": "#506784",
            "showbackground": true,
            "ticks": "",
            "zerolinecolor": "#C8D4E3",
            "gridwidth": 2
           },
           "yaxis": {
            "backgroundcolor": "rgb(17,17,17)",
            "gridcolor": "#506784",
            "linecolor": "#506784",
            "showbackground": true,
            "ticks": "",
            "zerolinecolor": "#C8D4E3",
            "gridwidth": 2
           },
           "zaxis": {
            "backgroundcolor": "rgb(17,17,17)",
            "gridcolor": "#506784",
            "linecolor": "#506784",
            "showbackground": true,
            "ticks": "",
            "zerolinecolor": "#C8D4E3",
            "gridwidth": 2
           }
          },
          "shapedefaults": {
           "line": {
            "color": "#f2f5fa"
           }
          },
          "annotationdefaults": {
           "arrowcolor": "#f2f5fa",
           "arrowhead": 0,
           "arrowwidth": 1
          },
          "geo": {
           "bgcolor": "rgb(17,17,17)",
           "landcolor": "rgb(17,17,17)",
           "subunitcolor": "#506784",
           "showland": true,
           "showlakes": true,
           "lakecolor": "rgb(17,17,17)"
          },
          "title": {
           "x": 0.05
          },
          "updatemenudefaults": {
           "bgcolor": "#506784",
           "borderwidth": 0
          },
          "sliderdefaults": {
           "bgcolor": "#C8D4E3",
           "borderwidth": 1,
           "bordercolor": "rgb(17,17,17)",
           "tickwidth": 0
          },
          "mapbox": {
           "style": "dark"
          }
         }
        },
        "xaxis": {
         "anchor": "y",
         "domain": [
          0.0,
          1.0
         ],
         "title": {
          "text": "sentence_pair"
         }
        },
        "yaxis": {
         "anchor": "x",
         "domain": [
          0.0,
          1.0
         ],
         "title": {
          "text": "value"
         }
        },
        "legend": {
         "title": {
          "text": "variable"
         },
         "tracegroupgap": 0
        },
        "title": {
         "text": "Errors vs. Embedding Dimensions"
        }
       },
       "config": {
        "plotlyServerURL": "https://plot.ly"
       }
      }
     },
     "metadata": {},
     "output_type": "display_data",
     "jetTransient": {
      "display_id": null
     }
    }
   ],
   "execution_count": 48
  },
  {
   "metadata": {},
   "cell_type": "code",
   "outputs": [],
   "execution_count": null,
   "source": "",
   "id": "583e1512d90afba4"
  }
 ],
 "metadata": {
  "kernelspec": {
   "display_name": "Python 3",
   "language": "python",
   "name": "python3"
  },
  "language_info": {
   "codemirror_mode": {
    "name": "ipython",
    "version": 2
   },
   "file_extension": ".py",
   "mimetype": "text/x-python",
   "name": "python",
   "nbconvert_exporter": "python",
   "pygments_lexer": "ipython2",
   "version": "2.7.6"
  }
 },
 "nbformat": 4,
 "nbformat_minor": 5
}

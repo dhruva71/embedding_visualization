{
 "cells": [
  {
   "cell_type": "code",
   "id": "initial_id",
   "metadata": {
    "collapsed": true,
    "ExecuteTime": {
     "end_time": "2025-09-16T09:17:54.535394Z",
     "start_time": "2025-09-16T09:17:54.325921Z"
    }
   },
   "source": [
    "import os\n",
    "\n",
    "import openai\n",
    "from dotenv import load_dotenv\n",
    "\n",
    "load_dotenv()"
   ],
   "outputs": [
    {
     "data": {
      "text/plain": [
       "True"
      ]
     },
     "execution_count": 3,
     "metadata": {},
     "output_type": "execute_result"
    }
   ],
   "execution_count": 3
  },
  {
   "metadata": {},
   "cell_type": "markdown",
   "source": "# List of input sentences",
   "id": "ab08681c8b7089f9"
  },
  {
   "metadata": {
    "ExecuteTime": {
     "end_time": "2025-09-16T09:17:54.546737Z",
     "start_time": "2025-09-16T09:17:54.544956Z"
    }
   },
   "cell_type": "code",
   "source": [
    "sentences = [\n",
    "    'What did the King wear?',\n",
    "    'The king wore black clothes',\n",
    "    'What is a red panda?',\n",
    "    'The red panda is a small mammal.',\n",
    "]"
   ],
   "id": "e7eb1602ca5b4e42",
   "outputs": [],
   "execution_count": 4
  },
  {
   "metadata": {},
   "cell_type": "markdown",
   "source": "# Generate embeddings",
   "id": "432c438f594fdb8c"
  },
  {
   "metadata": {
    "ExecuteTime": {
     "end_time": "2025-09-16T09:17:59.380196Z",
     "start_time": "2025-09-16T09:17:54.596743Z"
    }
   },
   "cell_type": "code",
   "source": [
    "# get embeddings for each sentence using openai embedding model\n",
    "client = openai.OpenAI(api_key=os.environ.get(\"OPENAI_API_KEY\"))\n",
    "embedding_model = 'text-embedding-3-large'\n",
    "\n",
    "openai_embeddings = []\n",
    "for sentence in sentences:\n",
    "    response = client.embeddings.create(\n",
    "        model=embedding_model,\n",
    "        input=sentence\n",
    "    )\n",
    "    embedding = response.data[0].embedding\n",
    "    openai_embeddings.append(embedding)\n",
    "    print(f'Received embedding for sentence: {sentence}')"
   ],
   "id": "1c1088afa795725",
   "outputs": [
    {
     "name": "stdout",
     "output_type": "stream",
     "text": [
      "Received embedding for sentence: What did the King wear?\n",
      "Received embedding for sentence: The king wore black clothes\n",
      "Received embedding for sentence: What is a red panda?\n",
      "Received embedding for sentence: The red panda is a small mammal.\n"
     ]
    }
   ],
   "execution_count": 5
  },
  {
   "metadata": {
    "ExecuteTime": {
     "end_time": "2025-09-16T09:17:59.438824Z",
     "start_time": "2025-09-16T09:17:59.435197Z"
    }
   },
   "cell_type": "code",
   "source": [
    "if len(openai_embeddings) == len(sentences) and len(openai_embeddings[0]) != 0:\n",
    "    print(f'Received embeddings for {len(openai_embeddings)} sentences, embedding size: {len(openai_embeddings[0])}')"
   ],
   "id": "839e3a8ba055b864",
   "outputs": [
    {
     "name": "stdout",
     "output_type": "stream",
     "text": [
      "Received embeddings for 4 sentences, embedding size: 3072\n"
     ]
    }
   ],
   "execution_count": 6
  },
  {
   "metadata": {},
   "cell_type": "markdown",
   "source": "# Get cosine similarity between every pair",
   "id": "da8431a32a933b04"
  },
  {
   "metadata": {
    "ExecuteTime": {
     "end_time": "2025-09-16T09:18:00.000478Z",
     "start_time": "2025-09-16T09:17:59.485765Z"
    }
   },
   "cell_type": "code",
   "source": [
    "from sklearn.metrics.pairwise import cosine_distances, euclidean_distances, cosine_similarity\n",
    "\n",
    "metric = cosine_similarity\n",
    "metric_name = \"cosine_similarity\""
   ],
   "id": "26372d19449b3c1c",
   "outputs": [],
   "execution_count": 7
  },
  {
   "metadata": {},
   "cell_type": "markdown",
   "source": "## Function to calculate similarities",
   "id": "b4d49273513adf88"
  },
  {
   "metadata": {
    "ExecuteTime": {
     "end_time": "2025-09-16T09:18:00.008274Z",
     "start_time": "2025-09-16T09:18:00.006073Z"
    }
   },
   "cell_type": "code",
   "source": [
    "def calculate_similarities(openai_embeddings_list: list) -> dict:\n",
    "    output_dict = {}\n",
    "    for idx1, sentence1 in enumerate(sentences):\n",
    "        for idx2, sentence2 in enumerate(sentences[idx1 + 1:]):\n",
    "            actual_index = idx1 + 1 + idx2\n",
    "            openai_embedding1 = [openai_embeddings_list[idx1]]\n",
    "            openai_embedding2 = [openai_embeddings_list[actual_index]]\n",
    "\n",
    "            output_dict[f'pair_{idx1}_{actual_index}'] = metric(openai_embedding1, openai_embedding2)[0][0]\n",
    "    return output_dict"
   ],
   "id": "8bb44cde80b1690b",
   "outputs": [],
   "execution_count": 8
  },
  {
   "metadata": {
    "ExecuteTime": {
     "end_time": "2025-09-16T09:18:00.060304Z",
     "start_time": "2025-09-16T09:18:00.053890Z"
    }
   },
   "cell_type": "code",
   "source": [
    "similarities_full = calculate_similarities(openai_embeddings_list=openai_embeddings)\n",
    "similarities_full"
   ],
   "id": "c1b8e8f5a5b896cc",
   "outputs": [
    {
     "data": {
      "text/plain": [
       "{'pair_0_1': np.float64(0.7421513181181323),\n",
       " 'pair_0_2': np.float64(0.058596090251280694),\n",
       " 'pair_0_3': np.float64(0.045106643742737304),\n",
       " 'pair_1_2': np.float64(0.019115193577802427),\n",
       " 'pair_1_3': np.float64(0.06823949306808158),\n",
       " 'pair_2_3': np.float64(0.7238424520758902)}"
      ]
     },
     "execution_count": 9,
     "metadata": {},
     "output_type": "execute_result"
    }
   ],
   "execution_count": 9
  },
  {
   "metadata": {},
   "cell_type": "markdown",
   "source": "# Matryoshka embeddings",
   "id": "f351044e7aa93392"
  },
  {
   "metadata": {},
   "cell_type": "markdown",
   "source": "## Now we take only the first 64,128,256,512 to compare embeddings",
   "id": "e489137d13c7cb88"
  },
  {
   "metadata": {
    "ExecuteTime": {
     "end_time": "2025-09-16T09:18:00.112736Z",
     "start_time": "2025-09-16T09:18:00.110218Z"
    }
   },
   "cell_type": "code",
   "source": [
    "openai_embeddings_64 = [x[:64] for x in openai_embeddings]\n",
    "openai_embeddings_128 = [x[:128] for x in openai_embeddings]\n",
    "openai_embeddings_256 = [x[:256] for x in openai_embeddings]\n",
    "openai_embeddings_512 = [x[:512] for x in openai_embeddings]"
   ],
   "id": "df5ee156f7808594",
   "outputs": [],
   "execution_count": 10
  },
  {
   "metadata": {},
   "cell_type": "markdown",
   "source": "### Just to verify, let's look at the length of one",
   "id": "654b929c553ffd58"
  },
  {
   "metadata": {
    "ExecuteTime": {
     "end_time": "2025-09-16T09:18:00.163581Z",
     "start_time": "2025-09-16T09:18:00.160663Z"
    }
   },
   "cell_type": "code",
   "source": "len(openai_embeddings_128[0])",
   "id": "73d827814308be99",
   "outputs": [
    {
     "data": {
      "text/plain": [
       "128"
      ]
     },
     "execution_count": 11,
     "metadata": {},
     "output_type": "execute_result"
    }
   ],
   "execution_count": 11
  },
  {
   "metadata": {},
   "cell_type": "markdown",
   "source": "## Let us recalculate similarities using less dimensions",
   "id": "e75509cde4615b4f"
  },
  {
   "metadata": {},
   "cell_type": "markdown",
   "source": "### 64",
   "id": "2bcdb1dc0268abb2"
  },
  {
   "metadata": {
    "ExecuteTime": {
     "end_time": "2025-09-16T09:18:00.215442Z",
     "start_time": "2025-09-16T09:18:00.211832Z"
    }
   },
   "cell_type": "code",
   "source": [
    "similarities_64 = calculate_similarities(openai_embeddings_64)\n",
    "similarities_64"
   ],
   "id": "e468608084db2b01",
   "outputs": [
    {
     "data": {
      "text/plain": [
       "{'pair_0_1': np.float64(0.6850311633462725),\n",
       " 'pair_0_2': np.float64(0.20489690628065066),\n",
       " 'pair_0_3': np.float64(0.1638284932131196),\n",
       " 'pair_1_2': np.float64(0.13412743954637252),\n",
       " 'pair_1_3': np.float64(0.15762862864144578),\n",
       " 'pair_2_3': np.float64(0.6978508046247627)}"
      ]
     },
     "execution_count": 12,
     "metadata": {},
     "output_type": "execute_result"
    }
   ],
   "execution_count": 12
  },
  {
   "metadata": {},
   "cell_type": "markdown",
   "source": "### 128",
   "id": "2e4c407424d95c91"
  },
  {
   "metadata": {
    "ExecuteTime": {
     "end_time": "2025-09-16T09:18:00.270951Z",
     "start_time": "2025-09-16T09:18:00.264821Z"
    }
   },
   "cell_type": "code",
   "source": [
    "similarities_128 = calculate_similarities(openai_embeddings_128)\n",
    "similarities_128"
   ],
   "id": "b50b7943ecd10d0b",
   "outputs": [
    {
     "data": {
      "text/plain": [
       "{'pair_0_1': np.float64(0.7359116060062696),\n",
       " 'pair_0_2': np.float64(0.17322708849706533),\n",
       " 'pair_0_3': np.float64(0.09728688309319741),\n",
       " 'pair_1_2': np.float64(0.10296365205092117),\n",
       " 'pair_1_3': np.float64(0.11192099262223268),\n",
       " 'pair_2_3': np.float64(0.6969381043835294)}"
      ]
     },
     "execution_count": 13,
     "metadata": {},
     "output_type": "execute_result"
    }
   ],
   "execution_count": 13
  },
  {
   "metadata": {},
   "cell_type": "markdown",
   "source": "## 256",
   "id": "fd87b1e000838885"
  },
  {
   "metadata": {
    "ExecuteTime": {
     "end_time": "2025-09-16T09:18:00.322719Z",
     "start_time": "2025-09-16T09:18:00.318205Z"
    }
   },
   "cell_type": "code",
   "source": [
    "similarities_256 = calculate_similarities(openai_embeddings_256)\n",
    "similarities_256"
   ],
   "id": "e8500581a0126a10",
   "outputs": [
    {
     "data": {
      "text/plain": [
       "{'pair_0_1': np.float64(0.7671354537635773),\n",
       " 'pair_0_2': np.float64(0.05499389997816802),\n",
       " 'pair_0_3': np.float64(0.09791882880966658),\n",
       " 'pair_1_2': np.float64(0.02573916393646139),\n",
       " 'pair_1_3': np.float64(0.12542713301935848),\n",
       " 'pair_2_3': np.float64(0.7158187173229467)}"
      ]
     },
     "execution_count": 14,
     "metadata": {},
     "output_type": "execute_result"
    }
   ],
   "execution_count": 14
  },
  {
   "metadata": {},
   "cell_type": "markdown",
   "source": "## 512",
   "id": "f98e27bd23e212ca"
  },
  {
   "metadata": {
    "ExecuteTime": {
     "end_time": "2025-09-16T09:18:00.381760Z",
     "start_time": "2025-09-16T09:18:00.376823Z"
    }
   },
   "cell_type": "code",
   "source": [
    "similarities_512 = calculate_similarities(openai_embeddings_512)\n",
    "similarities_512"
   ],
   "id": "f2c5ef0853110cd0",
   "outputs": [
    {
     "data": {
      "text/plain": [
       "{'pair_0_1': np.float64(0.7534843824718543),\n",
       " 'pair_0_2': np.float64(0.02890483102703427),\n",
       " 'pair_0_3': np.float64(0.03995788579986332),\n",
       " 'pair_1_2': np.float64(0.024245788101245218),\n",
       " 'pair_1_3': np.float64(0.08291184763028255),\n",
       " 'pair_2_3': np.float64(0.7433601892068534)}"
      ]
     },
     "execution_count": 15,
     "metadata": {},
     "output_type": "execute_result"
    }
   ],
   "execution_count": 15
  },
  {
   "metadata": {},
   "cell_type": "markdown",
   "source": "# Build a dataframe to compare",
   "id": "b7d1532ea7a99f51"
  },
  {
   "metadata": {
    "ExecuteTime": {
     "end_time": "2025-09-16T09:18:00.443591Z",
     "start_time": "2025-09-16T09:18:00.431965Z"
    }
   },
   "cell_type": "code",
   "source": [
    "import pandas as pd\n",
    "\n",
    "combined_data = {\n",
    "    'full': similarities_full,\n",
    "    '64': similarities_64,\n",
    "    '128': similarities_128,\n",
    "    '256': similarities_256,\n",
    "    '512': similarities_512,\n",
    "}\n",
    "df = pd.DataFrame(combined_data)\n",
    "df.index.name = 'sentence_pair'\n",
    "df"
   ],
   "id": "551da6861e47b72a",
   "outputs": [
    {
     "data": {
      "text/plain": [
       "                   full        64       128       256       512\n",
       "sentence_pair                                                  \n",
       "pair_0_1       0.742151  0.685031  0.735912  0.767135  0.753484\n",
       "pair_0_2       0.058596  0.204897  0.173227  0.054994  0.028905\n",
       "pair_0_3       0.045107  0.163828  0.097287  0.097919  0.039958\n",
       "pair_1_2       0.019115  0.134127  0.102964  0.025739  0.024246\n",
       "pair_1_3       0.068239  0.157629  0.111921  0.125427  0.082912\n",
       "pair_2_3       0.723842  0.697851  0.696938  0.715819  0.743360"
      ],
      "text/html": [
       "<div>\n",
       "<style scoped>\n",
       "    .dataframe tbody tr th:only-of-type {\n",
       "        vertical-align: middle;\n",
       "    }\n",
       "\n",
       "    .dataframe tbody tr th {\n",
       "        vertical-align: top;\n",
       "    }\n",
       "\n",
       "    .dataframe thead th {\n",
       "        text-align: right;\n",
       "    }\n",
       "</style>\n",
       "<table border=\"1\" class=\"dataframe\">\n",
       "  <thead>\n",
       "    <tr style=\"text-align: right;\">\n",
       "      <th></th>\n",
       "      <th>full</th>\n",
       "      <th>64</th>\n",
       "      <th>128</th>\n",
       "      <th>256</th>\n",
       "      <th>512</th>\n",
       "    </tr>\n",
       "    <tr>\n",
       "      <th>sentence_pair</th>\n",
       "      <th></th>\n",
       "      <th></th>\n",
       "      <th></th>\n",
       "      <th></th>\n",
       "      <th></th>\n",
       "    </tr>\n",
       "  </thead>\n",
       "  <tbody>\n",
       "    <tr>\n",
       "      <th>pair_0_1</th>\n",
       "      <td>0.742151</td>\n",
       "      <td>0.685031</td>\n",
       "      <td>0.735912</td>\n",
       "      <td>0.767135</td>\n",
       "      <td>0.753484</td>\n",
       "    </tr>\n",
       "    <tr>\n",
       "      <th>pair_0_2</th>\n",
       "      <td>0.058596</td>\n",
       "      <td>0.204897</td>\n",
       "      <td>0.173227</td>\n",
       "      <td>0.054994</td>\n",
       "      <td>0.028905</td>\n",
       "    </tr>\n",
       "    <tr>\n",
       "      <th>pair_0_3</th>\n",
       "      <td>0.045107</td>\n",
       "      <td>0.163828</td>\n",
       "      <td>0.097287</td>\n",
       "      <td>0.097919</td>\n",
       "      <td>0.039958</td>\n",
       "    </tr>\n",
       "    <tr>\n",
       "      <th>pair_1_2</th>\n",
       "      <td>0.019115</td>\n",
       "      <td>0.134127</td>\n",
       "      <td>0.102964</td>\n",
       "      <td>0.025739</td>\n",
       "      <td>0.024246</td>\n",
       "    </tr>\n",
       "    <tr>\n",
       "      <th>pair_1_3</th>\n",
       "      <td>0.068239</td>\n",
       "      <td>0.157629</td>\n",
       "      <td>0.111921</td>\n",
       "      <td>0.125427</td>\n",
       "      <td>0.082912</td>\n",
       "    </tr>\n",
       "    <tr>\n",
       "      <th>pair_2_3</th>\n",
       "      <td>0.723842</td>\n",
       "      <td>0.697851</td>\n",
       "      <td>0.696938</td>\n",
       "      <td>0.715819</td>\n",
       "      <td>0.743360</td>\n",
       "    </tr>\n",
       "  </tbody>\n",
       "</table>\n",
       "</div>"
      ]
     },
     "execution_count": 16,
     "metadata": {},
     "output_type": "execute_result"
    }
   ],
   "execution_count": 16
  },
  {
   "metadata": {},
   "cell_type": "markdown",
   "source": "# Plot on a chart",
   "id": "cb2447d454544701"
  },
  {
   "metadata": {
    "ExecuteTime": {
     "end_time": "2025-09-16T09:18:01.387333Z",
     "start_time": "2025-09-16T09:18:00.527765Z"
    }
   },
   "cell_type": "code",
   "source": [
    "import plotly.express as px\n",
    "\n",
    "fig = px.line(\n",
    "    df,\n",
    "    title='Cosine Similarity vs. Embedding Dimensions',\n",
    "    markers=True,\n",
    ")\n",
    "fig.show()"
   ],
   "id": "4de8c2855b1ae40f",
   "outputs": [
    {
     "data": {
      "application/vnd.plotly.v1+json": {
       "data": [
        {
         "hovertemplate": "variable=full<br>sentence_pair=%{x}<br>value=%{y}<extra></extra>",
         "legendgroup": "full",
         "line": {
          "color": "#636efa",
          "dash": "solid"
         },
         "marker": {
          "symbol": "circle"
         },
         "mode": "lines+markers",
         "name": "full",
         "orientation": "v",
         "showlegend": true,
         "x": [
          "pair_0_1",
          "pair_0_2",
          "pair_0_3",
          "pair_1_2",
          "pair_1_3",
          "pair_2_3"
         ],
         "xaxis": "x",
         "y": {
          "dtype": "f8",
          "bdata": "fgUAH7S/5z92/ZqGTgCuP64tas83GKc/eu4X7e6Skz885QW3JHixP6rqY6W3Kec/"
         },
         "yaxis": "y",
         "type": "scatter"
        },
        {
         "hovertemplate": "variable=64<br>sentence_pair=%{x}<br>value=%{y}<extra></extra>",
         "legendgroup": "64",
         "line": {
          "color": "#EF553B",
          "dash": "solid"
         },
         "marker": {
          "symbol": "circle"
         },
         "mode": "lines+markers",
         "name": "64",
         "orientation": "v",
         "showlegend": true,
         "x": [
          "pair_0_1",
          "pair_0_2",
          "pair_0_3",
          "pair_1_2",
          "pair_1_3",
          "pair_2_3"
         ],
         "xaxis": "x",
         "y": {
          "dtype": "f8",
          "bdata": "tARqecbr5T/Oc8PTDzrKP1psQAJV+MQ/kIcsgxYrwT/M03bGLC3EP3Q46zXLVOY/"
         },
         "yaxis": "y",
         "type": "scatter"
        },
        {
         "hovertemplate": "variable=128<br>sentence_pair=%{x}<br>value=%{y}<extra></extra>",
         "legendgroup": "128",
         "line": {
          "color": "#00cc96",
          "dash": "solid"
         },
         "marker": {
          "symbol": "circle"
         },
         "mode": "lines+markers",
         "name": "128",
         "orientation": "v",
         "showlegend": true,
         "x": [
          "pair_0_1",
          "pair_0_2",
          "pair_0_3",
          "pair_1_2",
          "pair_1_3",
          "pair_2_3"
         ],
         "xaxis": "x",
         "y": {
          "dtype": "f8",
          "bdata": "hmYRf5aM5z8bJ/AjTizGPw4ONw3L57g/IEU8btNbuj9yYAyr2qa8P1Y7tSNRTeY/"
         },
         "yaxis": "y",
         "type": "scatter"
        },
        {
         "hovertemplate": "variable=256<br>sentence_pair=%{x}<br>value=%{y}<extra></extra>",
         "legendgroup": "256",
         "line": {
          "color": "#ab63fa",
          "dash": "solid"
         },
         "marker": {
          "symbol": "circle"
         },
         "mode": "lines+markers",
         "name": "256",
         "orientation": "v",
         "showlegend": true,
         "x": [
          "pair_0_1",
          "pair_0_2",
          "pair_0_3",
          "pair_1_2",
          "pair_1_3",
          "pair_2_3"
         ],
         "xaxis": "x",
         "y": {
          "dtype": "f8",
          "bdata": "roiwpl+M6D/6fcUTKSisP51vZlc1Ebk/6HxVDV5bmj8ksiwN/w3APwKJmKf85+Y/"
         },
         "yaxis": "y",
         "type": "scatter"
        },
        {
         "hovertemplate": "variable=512<br>sentence_pair=%{x}<br>value=%{y}<extra></extra>",
         "legendgroup": "512",
         "line": {
          "color": "#FFA15A",
          "dash": "solid"
         },
         "marker": {
          "symbol": "circle"
         },
         "mode": "lines+markers",
         "name": "512",
         "orientation": "v",
         "showlegend": true,
         "x": [
          "pair_0_1",
          "pair_0_2",
          "pair_0_3",
          "pair_1_2",
          "pair_1_3",
          "pair_2_3"
         ],
         "xaxis": "x",
         "y": {
          "dtype": "f8",
          "bdata": "h22YR4sc6D+sf9RfOpmdPymXdClcdaQ//qXXS+PTmD894wX6tTm1P31WuU6byec/"
         },
         "yaxis": "y",
         "type": "scatter"
        }
       ],
       "layout": {
        "template": {
         "data": {
          "histogram2dcontour": [
           {
            "type": "histogram2dcontour",
            "colorbar": {
             "outlinewidth": 0,
             "ticks": ""
            },
            "colorscale": [
             [
              0.0,
              "#0d0887"
             ],
             [
              0.1111111111111111,
              "#46039f"
             ],
             [
              0.2222222222222222,
              "#7201a8"
             ],
             [
              0.3333333333333333,
              "#9c179e"
             ],
             [
              0.4444444444444444,
              "#bd3786"
             ],
             [
              0.5555555555555556,
              "#d8576b"
             ],
             [
              0.6666666666666666,
              "#ed7953"
             ],
             [
              0.7777777777777778,
              "#fb9f3a"
             ],
             [
              0.8888888888888888,
              "#fdca26"
             ],
             [
              1.0,
              "#f0f921"
             ]
            ]
           }
          ],
          "choropleth": [
           {
            "type": "choropleth",
            "colorbar": {
             "outlinewidth": 0,
             "ticks": ""
            }
           }
          ],
          "histogram2d": [
           {
            "type": "histogram2d",
            "colorbar": {
             "outlinewidth": 0,
             "ticks": ""
            },
            "colorscale": [
             [
              0.0,
              "#0d0887"
             ],
             [
              0.1111111111111111,
              "#46039f"
             ],
             [
              0.2222222222222222,
              "#7201a8"
             ],
             [
              0.3333333333333333,
              "#9c179e"
             ],
             [
              0.4444444444444444,
              "#bd3786"
             ],
             [
              0.5555555555555556,
              "#d8576b"
             ],
             [
              0.6666666666666666,
              "#ed7953"
             ],
             [
              0.7777777777777778,
              "#fb9f3a"
             ],
             [
              0.8888888888888888,
              "#fdca26"
             ],
             [
              1.0,
              "#f0f921"
             ]
            ]
           }
          ],
          "heatmap": [
           {
            "type": "heatmap",
            "colorbar": {
             "outlinewidth": 0,
             "ticks": ""
            },
            "colorscale": [
             [
              0.0,
              "#0d0887"
             ],
             [
              0.1111111111111111,
              "#46039f"
             ],
             [
              0.2222222222222222,
              "#7201a8"
             ],
             [
              0.3333333333333333,
              "#9c179e"
             ],
             [
              0.4444444444444444,
              "#bd3786"
             ],
             [
              0.5555555555555556,
              "#d8576b"
             ],
             [
              0.6666666666666666,
              "#ed7953"
             ],
             [
              0.7777777777777778,
              "#fb9f3a"
             ],
             [
              0.8888888888888888,
              "#fdca26"
             ],
             [
              1.0,
              "#f0f921"
             ]
            ]
           }
          ],
          "contourcarpet": [
           {
            "type": "contourcarpet",
            "colorbar": {
             "outlinewidth": 0,
             "ticks": ""
            }
           }
          ],
          "contour": [
           {
            "type": "contour",
            "colorbar": {
             "outlinewidth": 0,
             "ticks": ""
            },
            "colorscale": [
             [
              0.0,
              "#0d0887"
             ],
             [
              0.1111111111111111,
              "#46039f"
             ],
             [
              0.2222222222222222,
              "#7201a8"
             ],
             [
              0.3333333333333333,
              "#9c179e"
             ],
             [
              0.4444444444444444,
              "#bd3786"
             ],
             [
              0.5555555555555556,
              "#d8576b"
             ],
             [
              0.6666666666666666,
              "#ed7953"
             ],
             [
              0.7777777777777778,
              "#fb9f3a"
             ],
             [
              0.8888888888888888,
              "#fdca26"
             ],
             [
              1.0,
              "#f0f921"
             ]
            ]
           }
          ],
          "surface": [
           {
            "type": "surface",
            "colorbar": {
             "outlinewidth": 0,
             "ticks": ""
            },
            "colorscale": [
             [
              0.0,
              "#0d0887"
             ],
             [
              0.1111111111111111,
              "#46039f"
             ],
             [
              0.2222222222222222,
              "#7201a8"
             ],
             [
              0.3333333333333333,
              "#9c179e"
             ],
             [
              0.4444444444444444,
              "#bd3786"
             ],
             [
              0.5555555555555556,
              "#d8576b"
             ],
             [
              0.6666666666666666,
              "#ed7953"
             ],
             [
              0.7777777777777778,
              "#fb9f3a"
             ],
             [
              0.8888888888888888,
              "#fdca26"
             ],
             [
              1.0,
              "#f0f921"
             ]
            ]
           }
          ],
          "mesh3d": [
           {
            "type": "mesh3d",
            "colorbar": {
             "outlinewidth": 0,
             "ticks": ""
            }
           }
          ],
          "scatter": [
           {
            "marker": {
             "line": {
              "color": "#283442"
             }
            },
            "type": "scatter"
           }
          ],
          "parcoords": [
           {
            "type": "parcoords",
            "line": {
             "colorbar": {
              "outlinewidth": 0,
              "ticks": ""
             }
            }
           }
          ],
          "scatterpolargl": [
           {
            "type": "scatterpolargl",
            "marker": {
             "colorbar": {
              "outlinewidth": 0,
              "ticks": ""
             }
            }
           }
          ],
          "bar": [
           {
            "error_x": {
             "color": "#f2f5fa"
            },
            "error_y": {
             "color": "#f2f5fa"
            },
            "marker": {
             "line": {
              "color": "rgb(17,17,17)",
              "width": 0.5
             },
             "pattern": {
              "fillmode": "overlay",
              "size": 10,
              "solidity": 0.2
             }
            },
            "type": "bar"
           }
          ],
          "scattergeo": [
           {
            "type": "scattergeo",
            "marker": {
             "colorbar": {
              "outlinewidth": 0,
              "ticks": ""
             }
            }
           }
          ],
          "scatterpolar": [
           {
            "type": "scatterpolar",
            "marker": {
             "colorbar": {
              "outlinewidth": 0,
              "ticks": ""
             }
            }
           }
          ],
          "histogram": [
           {
            "marker": {
             "pattern": {
              "fillmode": "overlay",
              "size": 10,
              "solidity": 0.2
             }
            },
            "type": "histogram"
           }
          ],
          "scattergl": [
           {
            "marker": {
             "line": {
              "color": "#283442"
             }
            },
            "type": "scattergl"
           }
          ],
          "scatter3d": [
           {
            "type": "scatter3d",
            "line": {
             "colorbar": {
              "outlinewidth": 0,
              "ticks": ""
             }
            },
            "marker": {
             "colorbar": {
              "outlinewidth": 0,
              "ticks": ""
             }
            }
           }
          ],
          "scattermap": [
           {
            "type": "scattermap",
            "marker": {
             "colorbar": {
              "outlinewidth": 0,
              "ticks": ""
             }
            }
           }
          ],
          "scattermapbox": [
           {
            "type": "scattermapbox",
            "marker": {
             "colorbar": {
              "outlinewidth": 0,
              "ticks": ""
             }
            }
           }
          ],
          "scatterternary": [
           {
            "type": "scatterternary",
            "marker": {
             "colorbar": {
              "outlinewidth": 0,
              "ticks": ""
             }
            }
           }
          ],
          "scattercarpet": [
           {
            "type": "scattercarpet",
            "marker": {
             "colorbar": {
              "outlinewidth": 0,
              "ticks": ""
             }
            }
           }
          ],
          "carpet": [
           {
            "aaxis": {
             "endlinecolor": "#A2B1C6",
             "gridcolor": "#506784",
             "linecolor": "#506784",
             "minorgridcolor": "#506784",
             "startlinecolor": "#A2B1C6"
            },
            "baxis": {
             "endlinecolor": "#A2B1C6",
             "gridcolor": "#506784",
             "linecolor": "#506784",
             "minorgridcolor": "#506784",
             "startlinecolor": "#A2B1C6"
            },
            "type": "carpet"
           }
          ],
          "table": [
           {
            "cells": {
             "fill": {
              "color": "#506784"
             },
             "line": {
              "color": "rgb(17,17,17)"
             }
            },
            "header": {
             "fill": {
              "color": "#2a3f5f"
             },
             "line": {
              "color": "rgb(17,17,17)"
             }
            },
            "type": "table"
           }
          ],
          "barpolar": [
           {
            "marker": {
             "line": {
              "color": "rgb(17,17,17)",
              "width": 0.5
             },
             "pattern": {
              "fillmode": "overlay",
              "size": 10,
              "solidity": 0.2
             }
            },
            "type": "barpolar"
           }
          ],
          "pie": [
           {
            "automargin": true,
            "type": "pie"
           }
          ]
         },
         "layout": {
          "autotypenumbers": "strict",
          "colorway": [
           "#636efa",
           "#EF553B",
           "#00cc96",
           "#ab63fa",
           "#FFA15A",
           "#19d3f3",
           "#FF6692",
           "#B6E880",
           "#FF97FF",
           "#FECB52"
          ],
          "font": {
           "color": "#f2f5fa"
          },
          "hovermode": "closest",
          "hoverlabel": {
           "align": "left"
          },
          "paper_bgcolor": "rgb(17,17,17)",
          "plot_bgcolor": "rgb(17,17,17)",
          "polar": {
           "bgcolor": "rgb(17,17,17)",
           "angularaxis": {
            "gridcolor": "#506784",
            "linecolor": "#506784",
            "ticks": ""
           },
           "radialaxis": {
            "gridcolor": "#506784",
            "linecolor": "#506784",
            "ticks": ""
           }
          },
          "ternary": {
           "bgcolor": "rgb(17,17,17)",
           "aaxis": {
            "gridcolor": "#506784",
            "linecolor": "#506784",
            "ticks": ""
           },
           "baxis": {
            "gridcolor": "#506784",
            "linecolor": "#506784",
            "ticks": ""
           },
           "caxis": {
            "gridcolor": "#506784",
            "linecolor": "#506784",
            "ticks": ""
           }
          },
          "coloraxis": {
           "colorbar": {
            "outlinewidth": 0,
            "ticks": ""
           }
          },
          "colorscale": {
           "sequential": [
            [
             0.0,
             "#0d0887"
            ],
            [
             0.1111111111111111,
             "#46039f"
            ],
            [
             0.2222222222222222,
             "#7201a8"
            ],
            [
             0.3333333333333333,
             "#9c179e"
            ],
            [
             0.4444444444444444,
             "#bd3786"
            ],
            [
             0.5555555555555556,
             "#d8576b"
            ],
            [
             0.6666666666666666,
             "#ed7953"
            ],
            [
             0.7777777777777778,
             "#fb9f3a"
            ],
            [
             0.8888888888888888,
             "#fdca26"
            ],
            [
             1.0,
             "#f0f921"
            ]
           ],
           "sequentialminus": [
            [
             0.0,
             "#0d0887"
            ],
            [
             0.1111111111111111,
             "#46039f"
            ],
            [
             0.2222222222222222,
             "#7201a8"
            ],
            [
             0.3333333333333333,
             "#9c179e"
            ],
            [
             0.4444444444444444,
             "#bd3786"
            ],
            [
             0.5555555555555556,
             "#d8576b"
            ],
            [
             0.6666666666666666,
             "#ed7953"
            ],
            [
             0.7777777777777778,
             "#fb9f3a"
            ],
            [
             0.8888888888888888,
             "#fdca26"
            ],
            [
             1.0,
             "#f0f921"
            ]
           ],
           "diverging": [
            [
             0,
             "#8e0152"
            ],
            [
             0.1,
             "#c51b7d"
            ],
            [
             0.2,
             "#de77ae"
            ],
            [
             0.3,
             "#f1b6da"
            ],
            [
             0.4,
             "#fde0ef"
            ],
            [
             0.5,
             "#f7f7f7"
            ],
            [
             0.6,
             "#e6f5d0"
            ],
            [
             0.7,
             "#b8e186"
            ],
            [
             0.8,
             "#7fbc41"
            ],
            [
             0.9,
             "#4d9221"
            ],
            [
             1,
             "#276419"
            ]
           ]
          },
          "xaxis": {
           "gridcolor": "#283442",
           "linecolor": "#506784",
           "ticks": "",
           "title": {
            "standoff": 15
           },
           "zerolinecolor": "#283442",
           "automargin": true,
           "zerolinewidth": 2
          },
          "yaxis": {
           "gridcolor": "#283442",
           "linecolor": "#506784",
           "ticks": "",
           "title": {
            "standoff": 15
           },
           "zerolinecolor": "#283442",
           "automargin": true,
           "zerolinewidth": 2
          },
          "scene": {
           "xaxis": {
            "backgroundcolor": "rgb(17,17,17)",
            "gridcolor": "#506784",
            "linecolor": "#506784",
            "showbackground": true,
            "ticks": "",
            "zerolinecolor": "#C8D4E3",
            "gridwidth": 2
           },
           "yaxis": {
            "backgroundcolor": "rgb(17,17,17)",
            "gridcolor": "#506784",
            "linecolor": "#506784",
            "showbackground": true,
            "ticks": "",
            "zerolinecolor": "#C8D4E3",
            "gridwidth": 2
           },
           "zaxis": {
            "backgroundcolor": "rgb(17,17,17)",
            "gridcolor": "#506784",
            "linecolor": "#506784",
            "showbackground": true,
            "ticks": "",
            "zerolinecolor": "#C8D4E3",
            "gridwidth": 2
           }
          },
          "shapedefaults": {
           "line": {
            "color": "#f2f5fa"
           }
          },
          "annotationdefaults": {
           "arrowcolor": "#f2f5fa",
           "arrowhead": 0,
           "arrowwidth": 1
          },
          "geo": {
           "bgcolor": "rgb(17,17,17)",
           "landcolor": "rgb(17,17,17)",
           "subunitcolor": "#506784",
           "showland": true,
           "showlakes": true,
           "lakecolor": "rgb(17,17,17)"
          },
          "title": {
           "x": 0.05
          },
          "updatemenudefaults": {
           "bgcolor": "#506784",
           "borderwidth": 0
          },
          "sliderdefaults": {
           "bgcolor": "#C8D4E3",
           "borderwidth": 1,
           "bordercolor": "rgb(17,17,17)",
           "tickwidth": 0
          },
          "mapbox": {
           "style": "dark"
          }
         }
        },
        "xaxis": {
         "anchor": "y",
         "domain": [
          0.0,
          1.0
         ],
         "title": {
          "text": "sentence_pair"
         }
        },
        "yaxis": {
         "anchor": "x",
         "domain": [
          0.0,
          1.0
         ],
         "title": {
          "text": "value"
         }
        },
        "legend": {
         "title": {
          "text": "variable"
         },
         "tracegroupgap": 0
        },
        "title": {
         "text": "Cosine Similarity vs. Embedding Dimensions"
        }
       },
       "config": {
        "plotlyServerURL": "https://plot.ly"
       }
      }
     },
     "metadata": {},
     "output_type": "display_data",
     "jetTransient": {
      "display_id": null
     }
    }
   ],
   "execution_count": 17
  },
  {
   "metadata": {},
   "cell_type": "markdown",
   "source": "# Find percentage errors from full measurements",
   "id": "1312ee1c3a55f974"
  },
  {
   "metadata": {},
   "cell_type": "markdown",
   "source": "## full vs 64 dims",
   "id": "b046ec431fc62c30"
  },
  {
   "metadata": {
    "ExecuteTime": {
     "end_time": "2025-09-16T09:18:01.510558Z",
     "start_time": "2025-09-16T09:18:01.503047Z"
    }
   },
   "cell_type": "code",
   "source": [
    "df['error_full_64'] = df['full']-df['64']\n",
    "df"
   ],
   "id": "3e62323bb3108629",
   "outputs": [
    {
     "data": {
      "text/plain": [
       "                   full        64       128       256       512  error_full_64\n",
       "sentence_pair                                                                 \n",
       "pair_0_1       0.742151  0.685031  0.735912  0.767135  0.753484       0.057120\n",
       "pair_0_2       0.058596  0.204897  0.173227  0.054994  0.028905      -0.146301\n",
       "pair_0_3       0.045107  0.163828  0.097287  0.097919  0.039958      -0.118722\n",
       "pair_1_2       0.019115  0.134127  0.102964  0.025739  0.024246      -0.115012\n",
       "pair_1_3       0.068239  0.157629  0.111921  0.125427  0.082912      -0.089389\n",
       "pair_2_3       0.723842  0.697851  0.696938  0.715819  0.743360       0.025992"
      ],
      "text/html": [
       "<div>\n",
       "<style scoped>\n",
       "    .dataframe tbody tr th:only-of-type {\n",
       "        vertical-align: middle;\n",
       "    }\n",
       "\n",
       "    .dataframe tbody tr th {\n",
       "        vertical-align: top;\n",
       "    }\n",
       "\n",
       "    .dataframe thead th {\n",
       "        text-align: right;\n",
       "    }\n",
       "</style>\n",
       "<table border=\"1\" class=\"dataframe\">\n",
       "  <thead>\n",
       "    <tr style=\"text-align: right;\">\n",
       "      <th></th>\n",
       "      <th>full</th>\n",
       "      <th>64</th>\n",
       "      <th>128</th>\n",
       "      <th>256</th>\n",
       "      <th>512</th>\n",
       "      <th>error_full_64</th>\n",
       "    </tr>\n",
       "    <tr>\n",
       "      <th>sentence_pair</th>\n",
       "      <th></th>\n",
       "      <th></th>\n",
       "      <th></th>\n",
       "      <th></th>\n",
       "      <th></th>\n",
       "      <th></th>\n",
       "    </tr>\n",
       "  </thead>\n",
       "  <tbody>\n",
       "    <tr>\n",
       "      <th>pair_0_1</th>\n",
       "      <td>0.742151</td>\n",
       "      <td>0.685031</td>\n",
       "      <td>0.735912</td>\n",
       "      <td>0.767135</td>\n",
       "      <td>0.753484</td>\n",
       "      <td>0.057120</td>\n",
       "    </tr>\n",
       "    <tr>\n",
       "      <th>pair_0_2</th>\n",
       "      <td>0.058596</td>\n",
       "      <td>0.204897</td>\n",
       "      <td>0.173227</td>\n",
       "      <td>0.054994</td>\n",
       "      <td>0.028905</td>\n",
       "      <td>-0.146301</td>\n",
       "    </tr>\n",
       "    <tr>\n",
       "      <th>pair_0_3</th>\n",
       "      <td>0.045107</td>\n",
       "      <td>0.163828</td>\n",
       "      <td>0.097287</td>\n",
       "      <td>0.097919</td>\n",
       "      <td>0.039958</td>\n",
       "      <td>-0.118722</td>\n",
       "    </tr>\n",
       "    <tr>\n",
       "      <th>pair_1_2</th>\n",
       "      <td>0.019115</td>\n",
       "      <td>0.134127</td>\n",
       "      <td>0.102964</td>\n",
       "      <td>0.025739</td>\n",
       "      <td>0.024246</td>\n",
       "      <td>-0.115012</td>\n",
       "    </tr>\n",
       "    <tr>\n",
       "      <th>pair_1_3</th>\n",
       "      <td>0.068239</td>\n",
       "      <td>0.157629</td>\n",
       "      <td>0.111921</td>\n",
       "      <td>0.125427</td>\n",
       "      <td>0.082912</td>\n",
       "      <td>-0.089389</td>\n",
       "    </tr>\n",
       "    <tr>\n",
       "      <th>pair_2_3</th>\n",
       "      <td>0.723842</td>\n",
       "      <td>0.697851</td>\n",
       "      <td>0.696938</td>\n",
       "      <td>0.715819</td>\n",
       "      <td>0.743360</td>\n",
       "      <td>0.025992</td>\n",
       "    </tr>\n",
       "  </tbody>\n",
       "</table>\n",
       "</div>"
      ]
     },
     "execution_count": 18,
     "metadata": {},
     "output_type": "execute_result"
    }
   ],
   "execution_count": 18
  },
  {
   "metadata": {
    "ExecuteTime": {
     "end_time": "2025-09-16T09:19:37.302018Z",
     "start_time": "2025-09-16T09:19:37.293284Z"
    }
   },
   "cell_type": "code",
   "source": [
    "df['error_full_128'] = df['full']-df['128']\n",
    "df['error_full_256'] = df['full']-df['256']\n",
    "df['error_full_512'] = df['full']-df['512']\n",
    "df"
   ],
   "id": "cea5420f5a065391",
   "outputs": [
    {
     "data": {
      "text/plain": [
       "                   full        64       128       256       512  \\\n",
       "sentence_pair                                                     \n",
       "pair_0_1       0.742151  0.685031  0.735912  0.767135  0.753484   \n",
       "pair_0_2       0.058596  0.204897  0.173227  0.054994  0.028905   \n",
       "pair_0_3       0.045107  0.163828  0.097287  0.097919  0.039958   \n",
       "pair_1_2       0.019115  0.134127  0.102964  0.025739  0.024246   \n",
       "pair_1_3       0.068239  0.157629  0.111921  0.125427  0.082912   \n",
       "pair_2_3       0.723842  0.697851  0.696938  0.715819  0.743360   \n",
       "\n",
       "               error_full_64  error_full_128  error_full_256  error_full_512  \n",
       "sentence_pair                                                                 \n",
       "pair_0_1            0.057120        0.006240       -0.024984       -0.011333  \n",
       "pair_0_2           -0.146301       -0.114631        0.003602        0.029691  \n",
       "pair_0_3           -0.118722       -0.052180       -0.052812        0.005149  \n",
       "pair_1_2           -0.115012       -0.083848       -0.006624       -0.005131  \n",
       "pair_1_3           -0.089389       -0.043681       -0.057188       -0.014672  \n",
       "pair_2_3            0.025992        0.026904        0.008024       -0.019518  "
      ],
      "text/html": [
       "<div>\n",
       "<style scoped>\n",
       "    .dataframe tbody tr th:only-of-type {\n",
       "        vertical-align: middle;\n",
       "    }\n",
       "\n",
       "    .dataframe tbody tr th {\n",
       "        vertical-align: top;\n",
       "    }\n",
       "\n",
       "    .dataframe thead th {\n",
       "        text-align: right;\n",
       "    }\n",
       "</style>\n",
       "<table border=\"1\" class=\"dataframe\">\n",
       "  <thead>\n",
       "    <tr style=\"text-align: right;\">\n",
       "      <th></th>\n",
       "      <th>full</th>\n",
       "      <th>64</th>\n",
       "      <th>128</th>\n",
       "      <th>256</th>\n",
       "      <th>512</th>\n",
       "      <th>error_full_64</th>\n",
       "      <th>error_full_128</th>\n",
       "      <th>error_full_256</th>\n",
       "      <th>error_full_512</th>\n",
       "    </tr>\n",
       "    <tr>\n",
       "      <th>sentence_pair</th>\n",
       "      <th></th>\n",
       "      <th></th>\n",
       "      <th></th>\n",
       "      <th></th>\n",
       "      <th></th>\n",
       "      <th></th>\n",
       "      <th></th>\n",
       "      <th></th>\n",
       "      <th></th>\n",
       "    </tr>\n",
       "  </thead>\n",
       "  <tbody>\n",
       "    <tr>\n",
       "      <th>pair_0_1</th>\n",
       "      <td>0.742151</td>\n",
       "      <td>0.685031</td>\n",
       "      <td>0.735912</td>\n",
       "      <td>0.767135</td>\n",
       "      <td>0.753484</td>\n",
       "      <td>0.057120</td>\n",
       "      <td>0.006240</td>\n",
       "      <td>-0.024984</td>\n",
       "      <td>-0.011333</td>\n",
       "    </tr>\n",
       "    <tr>\n",
       "      <th>pair_0_2</th>\n",
       "      <td>0.058596</td>\n",
       "      <td>0.204897</td>\n",
       "      <td>0.173227</td>\n",
       "      <td>0.054994</td>\n",
       "      <td>0.028905</td>\n",
       "      <td>-0.146301</td>\n",
       "      <td>-0.114631</td>\n",
       "      <td>0.003602</td>\n",
       "      <td>0.029691</td>\n",
       "    </tr>\n",
       "    <tr>\n",
       "      <th>pair_0_3</th>\n",
       "      <td>0.045107</td>\n",
       "      <td>0.163828</td>\n",
       "      <td>0.097287</td>\n",
       "      <td>0.097919</td>\n",
       "      <td>0.039958</td>\n",
       "      <td>-0.118722</td>\n",
       "      <td>-0.052180</td>\n",
       "      <td>-0.052812</td>\n",
       "      <td>0.005149</td>\n",
       "    </tr>\n",
       "    <tr>\n",
       "      <th>pair_1_2</th>\n",
       "      <td>0.019115</td>\n",
       "      <td>0.134127</td>\n",
       "      <td>0.102964</td>\n",
       "      <td>0.025739</td>\n",
       "      <td>0.024246</td>\n",
       "      <td>-0.115012</td>\n",
       "      <td>-0.083848</td>\n",
       "      <td>-0.006624</td>\n",
       "      <td>-0.005131</td>\n",
       "    </tr>\n",
       "    <tr>\n",
       "      <th>pair_1_3</th>\n",
       "      <td>0.068239</td>\n",
       "      <td>0.157629</td>\n",
       "      <td>0.111921</td>\n",
       "      <td>0.125427</td>\n",
       "      <td>0.082912</td>\n",
       "      <td>-0.089389</td>\n",
       "      <td>-0.043681</td>\n",
       "      <td>-0.057188</td>\n",
       "      <td>-0.014672</td>\n",
       "    </tr>\n",
       "    <tr>\n",
       "      <th>pair_2_3</th>\n",
       "      <td>0.723842</td>\n",
       "      <td>0.697851</td>\n",
       "      <td>0.696938</td>\n",
       "      <td>0.715819</td>\n",
       "      <td>0.743360</td>\n",
       "      <td>0.025992</td>\n",
       "      <td>0.026904</td>\n",
       "      <td>0.008024</td>\n",
       "      <td>-0.019518</td>\n",
       "    </tr>\n",
       "  </tbody>\n",
       "</table>\n",
       "</div>"
      ]
     },
     "execution_count": 19,
     "metadata": {},
     "output_type": "execute_result"
    }
   ],
   "execution_count": 19
  },
  {
   "metadata": {
    "ExecuteTime": {
     "end_time": "2025-09-16T09:21:00.977029Z",
     "start_time": "2025-09-16T09:21:00.966395Z"
    }
   },
   "cell_type": "code",
   "source": [
    "errors_df = df[[\n",
    "    'error_full_64',\n",
    "    'error_full_128',\n",
    "'error_full_256',\n",
    "'error_full_512',]].copy()\n",
    "errors_df"
   ],
   "id": "7143e4bd73df66d",
   "outputs": [
    {
     "data": {
      "text/plain": [
       "               error_full_64  error_full_128  error_full_256  error_full_512\n",
       "sentence_pair                                                               \n",
       "pair_0_1            0.057120        0.006240       -0.024984       -0.011333\n",
       "pair_0_2           -0.146301       -0.114631        0.003602        0.029691\n",
       "pair_0_3           -0.118722       -0.052180       -0.052812        0.005149\n",
       "pair_1_2           -0.115012       -0.083848       -0.006624       -0.005131\n",
       "pair_1_3           -0.089389       -0.043681       -0.057188       -0.014672\n",
       "pair_2_3            0.025992        0.026904        0.008024       -0.019518"
      ],
      "text/html": [
       "<div>\n",
       "<style scoped>\n",
       "    .dataframe tbody tr th:only-of-type {\n",
       "        vertical-align: middle;\n",
       "    }\n",
       "\n",
       "    .dataframe tbody tr th {\n",
       "        vertical-align: top;\n",
       "    }\n",
       "\n",
       "    .dataframe thead th {\n",
       "        text-align: right;\n",
       "    }\n",
       "</style>\n",
       "<table border=\"1\" class=\"dataframe\">\n",
       "  <thead>\n",
       "    <tr style=\"text-align: right;\">\n",
       "      <th></th>\n",
       "      <th>error_full_64</th>\n",
       "      <th>error_full_128</th>\n",
       "      <th>error_full_256</th>\n",
       "      <th>error_full_512</th>\n",
       "    </tr>\n",
       "    <tr>\n",
       "      <th>sentence_pair</th>\n",
       "      <th></th>\n",
       "      <th></th>\n",
       "      <th></th>\n",
       "      <th></th>\n",
       "    </tr>\n",
       "  </thead>\n",
       "  <tbody>\n",
       "    <tr>\n",
       "      <th>pair_0_1</th>\n",
       "      <td>0.057120</td>\n",
       "      <td>0.006240</td>\n",
       "      <td>-0.024984</td>\n",
       "      <td>-0.011333</td>\n",
       "    </tr>\n",
       "    <tr>\n",
       "      <th>pair_0_2</th>\n",
       "      <td>-0.146301</td>\n",
       "      <td>-0.114631</td>\n",
       "      <td>0.003602</td>\n",
       "      <td>0.029691</td>\n",
       "    </tr>\n",
       "    <tr>\n",
       "      <th>pair_0_3</th>\n",
       "      <td>-0.118722</td>\n",
       "      <td>-0.052180</td>\n",
       "      <td>-0.052812</td>\n",
       "      <td>0.005149</td>\n",
       "    </tr>\n",
       "    <tr>\n",
       "      <th>pair_1_2</th>\n",
       "      <td>-0.115012</td>\n",
       "      <td>-0.083848</td>\n",
       "      <td>-0.006624</td>\n",
       "      <td>-0.005131</td>\n",
       "    </tr>\n",
       "    <tr>\n",
       "      <th>pair_1_3</th>\n",
       "      <td>-0.089389</td>\n",
       "      <td>-0.043681</td>\n",
       "      <td>-0.057188</td>\n",
       "      <td>-0.014672</td>\n",
       "    </tr>\n",
       "    <tr>\n",
       "      <th>pair_2_3</th>\n",
       "      <td>0.025992</td>\n",
       "      <td>0.026904</td>\n",
       "      <td>0.008024</td>\n",
       "      <td>-0.019518</td>\n",
       "    </tr>\n",
       "  </tbody>\n",
       "</table>\n",
       "</div>"
      ]
     },
     "execution_count": 20,
     "metadata": {},
     "output_type": "execute_result"
    }
   ],
   "execution_count": 20
  },
  {
   "metadata": {},
   "cell_type": "markdown",
   "source": "## Plot the absolute value of errors",
   "id": "3023fccf4961801d"
  },
  {
   "metadata": {
    "ExecuteTime": {
     "end_time": "2025-09-16T09:24:35.235031Z",
     "start_time": "2025-09-16T09:24:35.208578Z"
    }
   },
   "cell_type": "code",
   "source": [
    "fig = px.line(\n",
    "    errors_df.abs(),\n",
    "    title='Errors vs. Embedding Dimensions',\n",
    "    markers=True,\n",
    ")\n",
    "fig.show()"
   ],
   "id": "be720647a1bd22af",
   "outputs": [
    {
     "data": {
      "application/vnd.plotly.v1+json": {
       "data": [
        {
         "hovertemplate": "variable=error_full_64<br>sentence_pair=%{x}<br>value=%{y}<extra></extra>",
         "legendgroup": "error_full_64",
         "line": {
          "color": "#636efa",
          "dash": "solid"
         },
         "marker": {
          "symbol": "circle"
         },
         "mode": "lines+markers",
         "name": "error_full_64",
         "orientation": "v",
         "showlegend": true,
         "x": [
          "pair_0_1",
          "pair_0_2",
          "pair_0_3",
          "pair_1_2",
          "pair_1_3",
          "pair_2_3"
         ],
         "xaxis": "x",
         "y": {
          "dtype": "f8",
          "bdata": "oAxgWdo+rT9wtBwy/LnCP93ByxyOZL4/ghMTS3FxvT9cwufVNOK2P8BGFu+NnZo/"
         },
         "yaxis": "y",
         "type": "scatter"
        },
        {
         "hovertemplate": "variable=error_full_128<br>sentence_pair=%{x}<br>value=%{y}<extra></extra>",
         "legendgroup": "error_full_128",
         "line": {
          "color": "#EF553B",
          "dash": "solid"
         },
         "marker": {
          "symbol": "circle"
         },
         "mode": "lines+markers",
         "name": "error_full_128",
         "orientation": "v",
         "showlegend": true,
         "x": [
          "pair_0_1",
          "pair_0_2",
          "pair_0_3",
          "pair_1_2",
          "pair_1_3",
          "pair_2_3"
         ],
         "xaxis": "x",
         "y": {
          "dtype": "f8",
          "bdata": "AHxP98+OeT97z5IEdVi9P27uA0tet6o/gkn2shd3tT9s9gzoa12mP4Dq1TXQjJs/"
         },
         "yaxis": "y",
         "type": "scatter"
        },
        {
         "hovertemplate": "variable=error_full_256<br>sentence_pair=%{x}<br>value=%{y}<extra></extra>",
         "legendgroup": "error_full_256",
         "line": {
          "color": "#00cc96",
          "dash": "solid"
         },
         "marker": {
          "symbol": "circle"
         },
         "mode": "lines+markers",
         "name": "error_full_256",
         "orientation": "v",
         "showlegend": true,
         "x": [
          "pair_0_1",
          "pair_0_2",
          "pair_0_3",
          "pair_1_2",
          "pair_1_3",
          "pair_2_3"
         ],
         "xaxis": "x",
         "y": {
          "dtype": "f8",
          "bdata": "AGYQ9nCVmT/A91ctV4JtP4yxYt8yCqs/uDn2gLwhez8Y/qbGsketPwBq2HK/boA/"
         },
         "yaxis": "y",
         "type": "scatter"
        },
        {
         "hovertemplate": "variable=error_full_512<br>sentence_pair=%{x}<br>value=%{y}<extra></extra>",
         "legendgroup": "error_full_512",
         "line": {
          "color": "#ab63fa",
          "dash": "solid"
         },
         "marker": {
          "symbol": "circle"
         },
         "mode": "lines+markers",
         "name": "error_full_512",
         "orientation": "v",
         "showlegend": true,
         "x": [
          "pair_0_1",
          "pair_0_2",
          "pair_0_3",
          "pair_1_2",
          "pair_1_3",
          "pair_2_3"
         ],
         "xaxis": "x",
         "y": {
          "dtype": "f8",
          "bdata": "QAIaJso1hz9Ae2GtYmeePyi0rC/dFnU/EN7+etEDdT8I8P8XigyOP2B6rSp1/JM/"
         },
         "yaxis": "y",
         "type": "scatter"
        }
       ],
       "layout": {
        "template": {
         "data": {
          "histogram2dcontour": [
           {
            "type": "histogram2dcontour",
            "colorbar": {
             "outlinewidth": 0,
             "ticks": ""
            },
            "colorscale": [
             [
              0.0,
              "#0d0887"
             ],
             [
              0.1111111111111111,
              "#46039f"
             ],
             [
              0.2222222222222222,
              "#7201a8"
             ],
             [
              0.3333333333333333,
              "#9c179e"
             ],
             [
              0.4444444444444444,
              "#bd3786"
             ],
             [
              0.5555555555555556,
              "#d8576b"
             ],
             [
              0.6666666666666666,
              "#ed7953"
             ],
             [
              0.7777777777777778,
              "#fb9f3a"
             ],
             [
              0.8888888888888888,
              "#fdca26"
             ],
             [
              1.0,
              "#f0f921"
             ]
            ]
           }
          ],
          "choropleth": [
           {
            "type": "choropleth",
            "colorbar": {
             "outlinewidth": 0,
             "ticks": ""
            }
           }
          ],
          "histogram2d": [
           {
            "type": "histogram2d",
            "colorbar": {
             "outlinewidth": 0,
             "ticks": ""
            },
            "colorscale": [
             [
              0.0,
              "#0d0887"
             ],
             [
              0.1111111111111111,
              "#46039f"
             ],
             [
              0.2222222222222222,
              "#7201a8"
             ],
             [
              0.3333333333333333,
              "#9c179e"
             ],
             [
              0.4444444444444444,
              "#bd3786"
             ],
             [
              0.5555555555555556,
              "#d8576b"
             ],
             [
              0.6666666666666666,
              "#ed7953"
             ],
             [
              0.7777777777777778,
              "#fb9f3a"
             ],
             [
              0.8888888888888888,
              "#fdca26"
             ],
             [
              1.0,
              "#f0f921"
             ]
            ]
           }
          ],
          "heatmap": [
           {
            "type": "heatmap",
            "colorbar": {
             "outlinewidth": 0,
             "ticks": ""
            },
            "colorscale": [
             [
              0.0,
              "#0d0887"
             ],
             [
              0.1111111111111111,
              "#46039f"
             ],
             [
              0.2222222222222222,
              "#7201a8"
             ],
             [
              0.3333333333333333,
              "#9c179e"
             ],
             [
              0.4444444444444444,
              "#bd3786"
             ],
             [
              0.5555555555555556,
              "#d8576b"
             ],
             [
              0.6666666666666666,
              "#ed7953"
             ],
             [
              0.7777777777777778,
              "#fb9f3a"
             ],
             [
              0.8888888888888888,
              "#fdca26"
             ],
             [
              1.0,
              "#f0f921"
             ]
            ]
           }
          ],
          "contourcarpet": [
           {
            "type": "contourcarpet",
            "colorbar": {
             "outlinewidth": 0,
             "ticks": ""
            }
           }
          ],
          "contour": [
           {
            "type": "contour",
            "colorbar": {
             "outlinewidth": 0,
             "ticks": ""
            },
            "colorscale": [
             [
              0.0,
              "#0d0887"
             ],
             [
              0.1111111111111111,
              "#46039f"
             ],
             [
              0.2222222222222222,
              "#7201a8"
             ],
             [
              0.3333333333333333,
              "#9c179e"
             ],
             [
              0.4444444444444444,
              "#bd3786"
             ],
             [
              0.5555555555555556,
              "#d8576b"
             ],
             [
              0.6666666666666666,
              "#ed7953"
             ],
             [
              0.7777777777777778,
              "#fb9f3a"
             ],
             [
              0.8888888888888888,
              "#fdca26"
             ],
             [
              1.0,
              "#f0f921"
             ]
            ]
           }
          ],
          "surface": [
           {
            "type": "surface",
            "colorbar": {
             "outlinewidth": 0,
             "ticks": ""
            },
            "colorscale": [
             [
              0.0,
              "#0d0887"
             ],
             [
              0.1111111111111111,
              "#46039f"
             ],
             [
              0.2222222222222222,
              "#7201a8"
             ],
             [
              0.3333333333333333,
              "#9c179e"
             ],
             [
              0.4444444444444444,
              "#bd3786"
             ],
             [
              0.5555555555555556,
              "#d8576b"
             ],
             [
              0.6666666666666666,
              "#ed7953"
             ],
             [
              0.7777777777777778,
              "#fb9f3a"
             ],
             [
              0.8888888888888888,
              "#fdca26"
             ],
             [
              1.0,
              "#f0f921"
             ]
            ]
           }
          ],
          "mesh3d": [
           {
            "type": "mesh3d",
            "colorbar": {
             "outlinewidth": 0,
             "ticks": ""
            }
           }
          ],
          "scatter": [
           {
            "marker": {
             "line": {
              "color": "#283442"
             }
            },
            "type": "scatter"
           }
          ],
          "parcoords": [
           {
            "type": "parcoords",
            "line": {
             "colorbar": {
              "outlinewidth": 0,
              "ticks": ""
             }
            }
           }
          ],
          "scatterpolargl": [
           {
            "type": "scatterpolargl",
            "marker": {
             "colorbar": {
              "outlinewidth": 0,
              "ticks": ""
             }
            }
           }
          ],
          "bar": [
           {
            "error_x": {
             "color": "#f2f5fa"
            },
            "error_y": {
             "color": "#f2f5fa"
            },
            "marker": {
             "line": {
              "color": "rgb(17,17,17)",
              "width": 0.5
             },
             "pattern": {
              "fillmode": "overlay",
              "size": 10,
              "solidity": 0.2
             }
            },
            "type": "bar"
           }
          ],
          "scattergeo": [
           {
            "type": "scattergeo",
            "marker": {
             "colorbar": {
              "outlinewidth": 0,
              "ticks": ""
             }
            }
           }
          ],
          "scatterpolar": [
           {
            "type": "scatterpolar",
            "marker": {
             "colorbar": {
              "outlinewidth": 0,
              "ticks": ""
             }
            }
           }
          ],
          "histogram": [
           {
            "marker": {
             "pattern": {
              "fillmode": "overlay",
              "size": 10,
              "solidity": 0.2
             }
            },
            "type": "histogram"
           }
          ],
          "scattergl": [
           {
            "marker": {
             "line": {
              "color": "#283442"
             }
            },
            "type": "scattergl"
           }
          ],
          "scatter3d": [
           {
            "type": "scatter3d",
            "line": {
             "colorbar": {
              "outlinewidth": 0,
              "ticks": ""
             }
            },
            "marker": {
             "colorbar": {
              "outlinewidth": 0,
              "ticks": ""
             }
            }
           }
          ],
          "scattermap": [
           {
            "type": "scattermap",
            "marker": {
             "colorbar": {
              "outlinewidth": 0,
              "ticks": ""
             }
            }
           }
          ],
          "scattermapbox": [
           {
            "type": "scattermapbox",
            "marker": {
             "colorbar": {
              "outlinewidth": 0,
              "ticks": ""
             }
            }
           }
          ],
          "scatterternary": [
           {
            "type": "scatterternary",
            "marker": {
             "colorbar": {
              "outlinewidth": 0,
              "ticks": ""
             }
            }
           }
          ],
          "scattercarpet": [
           {
            "type": "scattercarpet",
            "marker": {
             "colorbar": {
              "outlinewidth": 0,
              "ticks": ""
             }
            }
           }
          ],
          "carpet": [
           {
            "aaxis": {
             "endlinecolor": "#A2B1C6",
             "gridcolor": "#506784",
             "linecolor": "#506784",
             "minorgridcolor": "#506784",
             "startlinecolor": "#A2B1C6"
            },
            "baxis": {
             "endlinecolor": "#A2B1C6",
             "gridcolor": "#506784",
             "linecolor": "#506784",
             "minorgridcolor": "#506784",
             "startlinecolor": "#A2B1C6"
            },
            "type": "carpet"
           }
          ],
          "table": [
           {
            "cells": {
             "fill": {
              "color": "#506784"
             },
             "line": {
              "color": "rgb(17,17,17)"
             }
            },
            "header": {
             "fill": {
              "color": "#2a3f5f"
             },
             "line": {
              "color": "rgb(17,17,17)"
             }
            },
            "type": "table"
           }
          ],
          "barpolar": [
           {
            "marker": {
             "line": {
              "color": "rgb(17,17,17)",
              "width": 0.5
             },
             "pattern": {
              "fillmode": "overlay",
              "size": 10,
              "solidity": 0.2
             }
            },
            "type": "barpolar"
           }
          ],
          "pie": [
           {
            "automargin": true,
            "type": "pie"
           }
          ]
         },
         "layout": {
          "autotypenumbers": "strict",
          "colorway": [
           "#636efa",
           "#EF553B",
           "#00cc96",
           "#ab63fa",
           "#FFA15A",
           "#19d3f3",
           "#FF6692",
           "#B6E880",
           "#FF97FF",
           "#FECB52"
          ],
          "font": {
           "color": "#f2f5fa"
          },
          "hovermode": "closest",
          "hoverlabel": {
           "align": "left"
          },
          "paper_bgcolor": "rgb(17,17,17)",
          "plot_bgcolor": "rgb(17,17,17)",
          "polar": {
           "bgcolor": "rgb(17,17,17)",
           "angularaxis": {
            "gridcolor": "#506784",
            "linecolor": "#506784",
            "ticks": ""
           },
           "radialaxis": {
            "gridcolor": "#506784",
            "linecolor": "#506784",
            "ticks": ""
           }
          },
          "ternary": {
           "bgcolor": "rgb(17,17,17)",
           "aaxis": {
            "gridcolor": "#506784",
            "linecolor": "#506784",
            "ticks": ""
           },
           "baxis": {
            "gridcolor": "#506784",
            "linecolor": "#506784",
            "ticks": ""
           },
           "caxis": {
            "gridcolor": "#506784",
            "linecolor": "#506784",
            "ticks": ""
           }
          },
          "coloraxis": {
           "colorbar": {
            "outlinewidth": 0,
            "ticks": ""
           }
          },
          "colorscale": {
           "sequential": [
            [
             0.0,
             "#0d0887"
            ],
            [
             0.1111111111111111,
             "#46039f"
            ],
            [
             0.2222222222222222,
             "#7201a8"
            ],
            [
             0.3333333333333333,
             "#9c179e"
            ],
            [
             0.4444444444444444,
             "#bd3786"
            ],
            [
             0.5555555555555556,
             "#d8576b"
            ],
            [
             0.6666666666666666,
             "#ed7953"
            ],
            [
             0.7777777777777778,
             "#fb9f3a"
            ],
            [
             0.8888888888888888,
             "#fdca26"
            ],
            [
             1.0,
             "#f0f921"
            ]
           ],
           "sequentialminus": [
            [
             0.0,
             "#0d0887"
            ],
            [
             0.1111111111111111,
             "#46039f"
            ],
            [
             0.2222222222222222,
             "#7201a8"
            ],
            [
             0.3333333333333333,
             "#9c179e"
            ],
            [
             0.4444444444444444,
             "#bd3786"
            ],
            [
             0.5555555555555556,
             "#d8576b"
            ],
            [
             0.6666666666666666,
             "#ed7953"
            ],
            [
             0.7777777777777778,
             "#fb9f3a"
            ],
            [
             0.8888888888888888,
             "#fdca26"
            ],
            [
             1.0,
             "#f0f921"
            ]
           ],
           "diverging": [
            [
             0,
             "#8e0152"
            ],
            [
             0.1,
             "#c51b7d"
            ],
            [
             0.2,
             "#de77ae"
            ],
            [
             0.3,
             "#f1b6da"
            ],
            [
             0.4,
             "#fde0ef"
            ],
            [
             0.5,
             "#f7f7f7"
            ],
            [
             0.6,
             "#e6f5d0"
            ],
            [
             0.7,
             "#b8e186"
            ],
            [
             0.8,
             "#7fbc41"
            ],
            [
             0.9,
             "#4d9221"
            ],
            [
             1,
             "#276419"
            ]
           ]
          },
          "xaxis": {
           "gridcolor": "#283442",
           "linecolor": "#506784",
           "ticks": "",
           "title": {
            "standoff": 15
           },
           "zerolinecolor": "#283442",
           "automargin": true,
           "zerolinewidth": 2
          },
          "yaxis": {
           "gridcolor": "#283442",
           "linecolor": "#506784",
           "ticks": "",
           "title": {
            "standoff": 15
           },
           "zerolinecolor": "#283442",
           "automargin": true,
           "zerolinewidth": 2
          },
          "scene": {
           "xaxis": {
            "backgroundcolor": "rgb(17,17,17)",
            "gridcolor": "#506784",
            "linecolor": "#506784",
            "showbackground": true,
            "ticks": "",
            "zerolinecolor": "#C8D4E3",
            "gridwidth": 2
           },
           "yaxis": {
            "backgroundcolor": "rgb(17,17,17)",
            "gridcolor": "#506784",
            "linecolor": "#506784",
            "showbackground": true,
            "ticks": "",
            "zerolinecolor": "#C8D4E3",
            "gridwidth": 2
           },
           "zaxis": {
            "backgroundcolor": "rgb(17,17,17)",
            "gridcolor": "#506784",
            "linecolor": "#506784",
            "showbackground": true,
            "ticks": "",
            "zerolinecolor": "#C8D4E3",
            "gridwidth": 2
           }
          },
          "shapedefaults": {
           "line": {
            "color": "#f2f5fa"
           }
          },
          "annotationdefaults": {
           "arrowcolor": "#f2f5fa",
           "arrowhead": 0,
           "arrowwidth": 1
          },
          "geo": {
           "bgcolor": "rgb(17,17,17)",
           "landcolor": "rgb(17,17,17)",
           "subunitcolor": "#506784",
           "showland": true,
           "showlakes": true,
           "lakecolor": "rgb(17,17,17)"
          },
          "title": {
           "x": 0.05
          },
          "updatemenudefaults": {
           "bgcolor": "#506784",
           "borderwidth": 0
          },
          "sliderdefaults": {
           "bgcolor": "#C8D4E3",
           "borderwidth": 1,
           "bordercolor": "rgb(17,17,17)",
           "tickwidth": 0
          },
          "mapbox": {
           "style": "dark"
          }
         }
        },
        "xaxis": {
         "anchor": "y",
         "domain": [
          0.0,
          1.0
         ],
         "title": {
          "text": "sentence_pair"
         }
        },
        "yaxis": {
         "anchor": "x",
         "domain": [
          0.0,
          1.0
         ],
         "title": {
          "text": "value"
         }
        },
        "legend": {
         "title": {
          "text": "variable"
         },
         "tracegroupgap": 0
        },
        "title": {
         "text": "Errors vs. Embedding Dimensions"
        }
       },
       "config": {
        "plotlyServerURL": "https://plot.ly"
       }
      }
     },
     "metadata": {},
     "output_type": "display_data",
     "jetTransient": {
      "display_id": null
     }
    }
   ],
   "execution_count": 24
  },
  {
   "metadata": {},
   "cell_type": "code",
   "outputs": [],
   "execution_count": null,
   "source": "",
   "id": "583e1512d90afba4"
  }
 ],
 "metadata": {
  "kernelspec": {
   "display_name": "Python 3",
   "language": "python",
   "name": "python3"
  },
  "language_info": {
   "codemirror_mode": {
    "name": "ipython",
    "version": 2
   },
   "file_extension": ".py",
   "mimetype": "text/x-python",
   "name": "python",
   "nbconvert_exporter": "python",
   "pygments_lexer": "ipython2",
   "version": "2.7.6"
  }
 },
 "nbformat": 4,
 "nbformat_minor": 5
}
